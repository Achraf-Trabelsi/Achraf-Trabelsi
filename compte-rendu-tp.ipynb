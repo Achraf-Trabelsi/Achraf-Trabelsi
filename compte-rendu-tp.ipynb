{
 "cells": [
  {
   "cell_type": "code",
   "execution_count": 1,
   "id": "841fb0f1",
   "metadata": {
    "_cell_guid": "b1076dfc-b9ad-4769-8c92-a6c4dae69d19",
    "_uuid": "8f2839f25d086af736a60e9eeb907d3b93b6e0e5",
    "execution": {
     "iopub.execute_input": "2022-04-28T15:25:39.629937Z",
     "iopub.status.busy": "2022-04-28T15:25:39.617489Z",
     "iopub.status.idle": "2022-04-28T15:25:39.673920Z",
     "shell.execute_reply": "2022-04-28T15:25:39.674987Z",
     "shell.execute_reply.started": "2022-04-28T15:13:58.468224Z"
    },
    "papermill": {
     "duration": 0.248,
     "end_time": "2022-04-28T15:25:39.675351",
     "exception": false,
     "start_time": "2022-04-28T15:25:39.427351",
     "status": "completed"
    },
    "tags": []
   },
   "outputs": [
    {
     "name": "stdout",
     "output_type": "stream",
     "text": [
      "/kaggle/input/fast-text-word-embeddings/wiki-news-300d-1M.vec\n",
      "/kaggle/input/glove6b100dtxt/glove.6B.100d.txt\n",
      "/kaggle/input/imdb-dataset-of-50k-movie-reviews/IMDB Dataset.csv\n",
      "/kaggle/input/glove6b/glove.6B.200d.txt\n",
      "/kaggle/input/glove6b/glove.6B.50d.txt\n",
      "/kaggle/input/glove6b/glove.6B.300d.txt\n",
      "/kaggle/input/glove6b/glove.6B.100d.txt\n",
      "/kaggle/input/original-embeddings/GoogleNews-vectors-negative300(first500000).txt\n",
      "/kaggle/input/original-embeddings/glove.6B.300d.txt\n",
      "/kaggle/input/fasttext/wiki.simple.vec\n"
     ]
    }
   ],
   "source": [
    "# This Python 3 environment comes with many helpful analytics libraries installed\n",
    "# It is defined by the kaggle/python Docker image: https://github.com/kaggle/docker-python\n",
    "# For example, here's several helpful packages to load\n",
    "\n",
    "import numpy as np # linear algebra\n",
    "import pandas as pd # data processing, CSV file I/O (e.g. pd.read_csv)\n",
    "\n",
    "# Input data files are available in the read-only \"../input/\" directory\n",
    "# For example, running this (by clicking run or pressing Shift+Enter) will list all files under the input directory\n",
    "\n",
    "import os\n",
    "for dirname, _, filenames in os.walk('/kaggle/input'):\n",
    "    for filename in filenames:\n",
    "        print(os.path.join(dirname, filename))\n",
    "\n",
    "# You can write up to 20GB to the current directory (/kaggle/working/) that gets preserved as output when you create a version using \"Save & Run All\" \n",
    "# You can also write temporary files to /kaggle/temp/, but they won't be saved outside of the current session"
   ]
  },
  {
   "cell_type": "markdown",
   "id": "c219547b",
   "metadata": {
    "papermill": {
     "duration": 0.148651,
     "end_time": "2022-04-28T15:25:39.967899",
     "exception": false,
     "start_time": "2022-04-28T15:25:39.819248",
     "status": "completed"
    },
    "tags": []
   },
   "source": [
    "**Importing packages**"
   ]
  },
  {
   "cell_type": "code",
   "execution_count": 2,
   "id": "46ae82d7",
   "metadata": {
    "execution": {
     "iopub.execute_input": "2022-04-28T15:25:40.178848Z",
     "iopub.status.busy": "2022-04-28T15:25:40.178122Z",
     "iopub.status.idle": "2022-04-28T15:25:47.097668Z",
     "shell.execute_reply": "2022-04-28T15:25:47.096972Z",
     "shell.execute_reply.started": "2022-04-28T15:14:04.223214Z"
    },
    "papermill": {
     "duration": 7.012599,
     "end_time": "2022-04-28T15:25:47.097814",
     "exception": false,
     "start_time": "2022-04-28T15:25:40.085215",
     "status": "completed"
    },
    "tags": []
   },
   "outputs": [],
   "source": [
    "import re \n",
    "import nltk \n",
    "from nltk.corpus import stopwords \n",
    "from numpy import array \n",
    "from keras.preprocessing.text import one_hot \n",
    "from keras.preprocessing.sequence import pad_sequences\n",
    "from keras.models import Sequential,Model \n",
    "from keras.layers.core import Activation, Dropout, Dense \n",
    "from keras.layers import Flatten\n",
    "from keras.layers import Conv1D \n",
    "from keras.layers import GlobalMaxPooling1D,MaxPooling1D\n",
    "from keras.layers import LSTM,GRU\n",
    "from keras.layers.embeddings import Embedding\n",
    "from sklearn.model_selection import train_test_split \n",
    "from keras.preprocessing.text import Tokenizer\n",
    "from gensim.models import KeyedVectors\n"
   ]
  },
  {
   "cell_type": "markdown",
   "id": "31795b7f",
   "metadata": {
    "papermill": {
     "duration": 0.085828,
     "end_time": "2022-04-28T15:25:47.268977",
     "exception": false,
     "start_time": "2022-04-28T15:25:47.183149",
     "status": "completed"
    },
    "tags": []
   },
   "source": [
    "**Reading the data**"
   ]
  },
  {
   "cell_type": "code",
   "execution_count": 3,
   "id": "04708b5e",
   "metadata": {
    "execution": {
     "iopub.execute_input": "2022-04-28T15:25:47.465347Z",
     "iopub.status.busy": "2022-04-28T15:25:47.464520Z",
     "iopub.status.idle": "2022-04-28T15:25:48.754854Z",
     "shell.execute_reply": "2022-04-28T15:25:48.753871Z",
     "shell.execute_reply.started": "2022-04-28T15:14:13.798289Z"
    },
    "papermill": {
     "duration": 1.402166,
     "end_time": "2022-04-28T15:25:48.755045",
     "exception": false,
     "start_time": "2022-04-28T15:25:47.352879",
     "status": "completed"
    },
    "tags": []
   },
   "outputs": [
    {
     "data": {
      "text/plain": [
       "(50000, 2)"
      ]
     },
     "execution_count": 3,
     "metadata": {},
     "output_type": "execute_result"
    }
   ],
   "source": [
    "train=pd.read_csv('/kaggle/input/imdb-dataset-of-50k-movie-reviews/IMDB Dataset.csv')\n",
    "train.shape"
   ]
  },
  {
   "cell_type": "code",
   "execution_count": 4,
   "id": "caddac78",
   "metadata": {
    "execution": {
     "iopub.execute_input": "2022-04-28T15:25:48.953224Z",
     "iopub.status.busy": "2022-04-28T15:25:48.952610Z",
     "iopub.status.idle": "2022-04-28T15:25:48.958953Z",
     "shell.execute_reply": "2022-04-28T15:25:48.959408Z",
     "shell.execute_reply.started": "2022-04-28T13:45:26.058676Z"
    },
    "papermill": {
     "duration": 0.11737,
     "end_time": "2022-04-28T15:25:48.959626",
     "exception": false,
     "start_time": "2022-04-28T15:25:48.842256",
     "status": "completed"
    },
    "tags": []
   },
   "outputs": [
    {
     "data": {
      "text/plain": [
       "review       0\n",
       "sentiment    0\n",
       "dtype: int64"
      ]
     },
     "execution_count": 4,
     "metadata": {},
     "output_type": "execute_result"
    }
   ],
   "source": [
    "train.isnull().sum()"
   ]
  },
  {
   "cell_type": "code",
   "execution_count": 5,
   "id": "bbf628d0",
   "metadata": {
    "execution": {
     "iopub.execute_input": "2022-04-28T15:25:49.138847Z",
     "iopub.status.busy": "2022-04-28T15:25:49.137835Z",
     "iopub.status.idle": "2022-04-28T15:25:49.149711Z",
     "shell.execute_reply": "2022-04-28T15:25:49.150230Z",
     "shell.execute_reply.started": "2022-04-28T13:45:26.087049Z"
    },
    "papermill": {
     "duration": 0.104672,
     "end_time": "2022-04-28T15:25:49.150466",
     "exception": false,
     "start_time": "2022-04-28T15:25:49.045794",
     "status": "completed"
    },
    "tags": []
   },
   "outputs": [
    {
     "data": {
      "text/html": [
       "<div>\n",
       "<style scoped>\n",
       "    .dataframe tbody tr th:only-of-type {\n",
       "        vertical-align: middle;\n",
       "    }\n",
       "\n",
       "    .dataframe tbody tr th {\n",
       "        vertical-align: top;\n",
       "    }\n",
       "\n",
       "    .dataframe thead th {\n",
       "        text-align: right;\n",
       "    }\n",
       "</style>\n",
       "<table border=\"1\" class=\"dataframe\">\n",
       "  <thead>\n",
       "    <tr style=\"text-align: right;\">\n",
       "      <th></th>\n",
       "      <th>review</th>\n",
       "      <th>sentiment</th>\n",
       "    </tr>\n",
       "  </thead>\n",
       "  <tbody>\n",
       "    <tr>\n",
       "      <th>0</th>\n",
       "      <td>One of the other reviewers has mentioned that ...</td>\n",
       "      <td>positive</td>\n",
       "    </tr>\n",
       "    <tr>\n",
       "      <th>1</th>\n",
       "      <td>A wonderful little production. &lt;br /&gt;&lt;br /&gt;The...</td>\n",
       "      <td>positive</td>\n",
       "    </tr>\n",
       "    <tr>\n",
       "      <th>2</th>\n",
       "      <td>I thought this was a wonderful way to spend ti...</td>\n",
       "      <td>positive</td>\n",
       "    </tr>\n",
       "    <tr>\n",
       "      <th>3</th>\n",
       "      <td>Basically there's a family where a little boy ...</td>\n",
       "      <td>negative</td>\n",
       "    </tr>\n",
       "    <tr>\n",
       "      <th>4</th>\n",
       "      <td>Petter Mattei's \"Love in the Time of Money\" is...</td>\n",
       "      <td>positive</td>\n",
       "    </tr>\n",
       "  </tbody>\n",
       "</table>\n",
       "</div>"
      ],
      "text/plain": [
       "                                              review sentiment\n",
       "0  One of the other reviewers has mentioned that ...  positive\n",
       "1  A wonderful little production. <br /><br />The...  positive\n",
       "2  I thought this was a wonderful way to spend ti...  positive\n",
       "3  Basically there's a family where a little boy ...  negative\n",
       "4  Petter Mattei's \"Love in the Time of Money\" is...  positive"
      ]
     },
     "execution_count": 5,
     "metadata": {},
     "output_type": "execute_result"
    }
   ],
   "source": [
    "train.head(5)"
   ]
  },
  {
   "cell_type": "code",
   "execution_count": 6,
   "id": "7908068d",
   "metadata": {
    "execution": {
     "iopub.execute_input": "2022-04-28T15:25:49.324478Z",
     "iopub.status.busy": "2022-04-28T15:25:49.323645Z",
     "iopub.status.idle": "2022-04-28T15:25:49.741317Z",
     "shell.execute_reply": "2022-04-28T15:25:49.740795Z",
     "shell.execute_reply.started": "2022-04-28T13:45:26.104709Z"
    },
    "papermill": {
     "duration": 0.506438,
     "end_time": "2022-04-28T15:25:49.741549",
     "exception": false,
     "start_time": "2022-04-28T15:25:49.235111",
     "status": "completed"
    },
    "tags": []
   },
   "outputs": [
    {
     "data": {
      "image/png": "[encoded data removed]",
      "text/plain": [
       "<Figure size 432x288 with 1 Axes>"
      ]
     },
     "metadata": {
      "needs_background": "light"
     },
     "output_type": "display_data"
    }
   ],
   "source": [
    "import seaborn as sns\n",
    "ax=sns.countplot(x=\"sentiment\", data=train)\n"
   ]
  },
  {
   "cell_type": "code",
   "execution_count": 7,
   "id": "8cf1550c",
   "metadata": {
    "execution": {
     "iopub.execute_input": "2022-04-28T15:25:49.922403Z",
     "iopub.status.busy": "2022-04-28T15:25:49.921585Z",
     "iopub.status.idle": "2022-04-28T15:25:49.925216Z",
     "shell.execute_reply": "2022-04-28T15:25:49.925852Z",
     "shell.execute_reply.started": "2022-04-28T13:45:26.521838Z"
    },
    "papermill": {
     "duration": 0.098002,
     "end_time": "2022-04-28T15:25:49.926055",
     "exception": false,
     "start_time": "2022-04-28T15:25:49.828053",
     "status": "completed"
    },
    "tags": []
   },
   "outputs": [
    {
     "data": {
      "text/plain": [
       "\"Basically there's a family where a little boy (Jake) thinks there's a zombie in his closet & his parents are fighting all the time.<br /><br />This movie is slower than a soap opera... and suddenly, Jake decides to become Rambo and kill the zombie.<br /><br />OK, first of all when you're going to make a film you must Decide if its a thriller or a drama! As a drama the movie is watchable. Parents are divorcing & arguing like in real life. And then we have Jake with his closet which totally ruins all the film! I expected to see a BOOGEYMAN similar movie, and instead i watched a drama with some meaningless thriller spots.<br /><br />3 out of 10 just for the well playing parents & descent dialogs. As for the shots with Jake: just ignore them.\""
      ]
     },
     "execution_count": 7,
     "metadata": {},
     "output_type": "execute_result"
    }
   ],
   "source": [
    "train['review'].iloc[3]"
   ]
  },
  {
   "cell_type": "code",
   "execution_count": 8,
   "id": "27af0e4e",
   "metadata": {
    "execution": {
     "iopub.execute_input": "2022-04-28T15:25:50.108120Z",
     "iopub.status.busy": "2022-04-28T15:25:50.107110Z",
     "iopub.status.idle": "2022-04-28T15:25:50.109174Z",
     "shell.execute_reply": "2022-04-28T15:25:50.109694Z",
     "shell.execute_reply.started": "2022-04-28T15:14:22.867052Z"
    },
    "papermill": {
     "duration": 0.096678,
     "end_time": "2022-04-28T15:25:50.109853",
     "exception": false,
     "start_time": "2022-04-28T15:25:50.013175",
     "status": "completed"
    },
    "tags": []
   },
   "outputs": [],
   "source": [
    "def remove_tags(text):\n",
    " return TAG_RE.sub('', text)\n",
    "def preprocess_text(sen):\n",
    "# Removing html tags\n",
    " sentence = remove_tags(sen)\n",
    "# Remove punctuations and numbers\n",
    " sentence = re.sub('[^a-zA-Z]', ' ', sentence)\n",
    "# Single character removal\n",
    " sentence = re.sub(r\"\\s+[a-zA-Z]\\s+\", ' ', sentence)\n",
    "# Removing multiple spaces\n",
    " sentence = re.sub(r'\\s+', ' ', sentence)\n",
    " return sentence\n",
    "\n",
    "TAG_RE = re.compile(r'<[^>]+>')\n"
   ]
  },
  {
   "cell_type": "code",
   "execution_count": 9,
   "id": "f5094564",
   "metadata": {
    "execution": {
     "iopub.execute_input": "2022-04-28T15:25:50.345558Z",
     "iopub.status.busy": "2022-04-28T15:25:50.325084Z",
     "iopub.status.idle": "2022-04-28T15:26:05.830377Z",
     "shell.execute_reply": "2022-04-28T15:26:05.829370Z",
     "shell.execute_reply.started": "2022-04-28T15:14:26.065828Z"
    },
    "papermill": {
     "duration": 15.634901,
     "end_time": "2022-04-28T15:26:05.830520",
     "exception": false,
     "start_time": "2022-04-28T15:25:50.195619",
     "status": "completed"
    },
    "tags": []
   },
   "outputs": [],
   "source": [
    "X = []\n",
    "sentences = list(train['review'])\n",
    "for sen in sentences:\n",
    " X.append(preprocess_text(sen))"
   ]
  },
  {
   "cell_type": "code",
   "execution_count": 10,
   "id": "50c1a7ef",
   "metadata": {
    "execution": {
     "iopub.execute_input": "2022-04-28T15:26:06.015184Z",
     "iopub.status.busy": "2022-04-28T15:26:06.014277Z",
     "iopub.status.idle": "2022-04-28T15:26:06.018092Z",
     "shell.execute_reply": "2022-04-28T15:26:06.018632Z",
     "shell.execute_reply.started": "2022-04-28T13:45:41.935038Z"
    },
    "papermill": {
     "duration": 0.099531,
     "end_time": "2022-04-28T15:26:06.018793",
     "exception": false,
     "start_time": "2022-04-28T15:26:05.919262",
     "status": "completed"
    },
    "tags": []
   },
   "outputs": [
    {
     "data": {
      "text/plain": [
       "'Basically there a family where little boy Jake thinks there a zombie in his closet his parents are fighting all the time This movie is slower than soap opera and suddenly Jake decides to become Rambo and kill the zombie OK first of all when you re going to make film you must Decide if its thriller or drama As drama the movie is watchable Parents are divorcing arguing like in real life And then we have Jake with his closet which totally ruins all the film expected to see BOOGEYMAN similar movie and instead watched drama with some meaningless thriller spots out of just for the well playing parents descent dialogs As for the shots with Jake just ignore them '"
      ]
     },
     "execution_count": 10,
     "metadata": {},
     "output_type": "execute_result"
    }
   ],
   "source": [
    "X[3]"
   ]
  },
  {
   "cell_type": "code",
   "execution_count": 11,
   "id": "79569867",
   "metadata": {
    "execution": {
     "iopub.execute_input": "2022-04-28T15:26:06.225436Z",
     "iopub.status.busy": "2022-04-28T15:26:06.224446Z",
     "iopub.status.idle": "2022-04-28T15:26:06.227414Z",
     "shell.execute_reply": "2022-04-28T15:26:06.228083Z",
     "shell.execute_reply.started": "2022-04-28T15:14:48.306513Z"
    },
    "papermill": {
     "duration": 0.120202,
     "end_time": "2022-04-28T15:26:06.228264",
     "exception": false,
     "start_time": "2022-04-28T15:26:06.108062",
     "status": "completed"
    },
    "tags": []
   },
   "outputs": [],
   "source": [
    "y = train['sentiment']\n",
    "y = np.array(list(map(lambda x: 1 if x==\"positive\" else 0, y)))"
   ]
  },
  {
   "cell_type": "code",
   "execution_count": 12,
   "id": "d0c7b9ed",
   "metadata": {
    "execution": {
     "iopub.execute_input": "2022-04-28T15:26:06.411338Z",
     "iopub.status.busy": "2022-04-28T15:26:06.410232Z",
     "iopub.status.idle": "2022-04-28T15:26:06.435070Z",
     "shell.execute_reply": "2022-04-28T15:26:06.434502Z",
     "shell.execute_reply.started": "2022-04-28T15:14:51.950652Z"
    },
    "papermill": {
     "duration": 0.115889,
     "end_time": "2022-04-28T15:26:06.435212",
     "exception": false,
     "start_time": "2022-04-28T15:26:06.319323",
     "status": "completed"
    },
    "tags": []
   },
   "outputs": [],
   "source": [
    "X_train, X_test, y_train, y_test = train_test_split(X, y,\n",
    "test_size=0.20, random_state=42)"
   ]
  },
  {
   "cell_type": "code",
   "execution_count": 13,
   "id": "65c7fe4b",
   "metadata": {
    "execution": {
     "iopub.execute_input": "2022-04-28T15:26:06.640167Z",
     "iopub.status.busy": "2022-04-28T15:26:06.634915Z",
     "iopub.status.idle": "2022-04-28T15:26:21.022260Z",
     "shell.execute_reply": "2022-04-28T15:26:21.021763Z",
     "shell.execute_reply.started": "2022-04-28T15:15:04.736548Z"
    },
    "papermill": {
     "duration": 14.499509,
     "end_time": "2022-04-28T15:26:21.022409",
     "exception": false,
     "start_time": "2022-04-28T15:26:06.522900",
     "status": "completed"
    },
    "tags": []
   },
   "outputs": [],
   "source": [
    "tokenizer = Tokenizer(num_words=5000) \n",
    "tokenizer.fit_on_texts(X_train) \n",
    "X_train = tokenizer.texts_to_sequences(X_train)\n",
    "X_test = tokenizer.texts_to_sequences(X_test)"
   ]
  },
  {
   "cell_type": "code",
   "execution_count": 14,
   "id": "b97bdd70",
   "metadata": {
    "execution": {
     "iopub.execute_input": "2022-04-28T15:26:21.212489Z",
     "iopub.status.busy": "2022-04-28T15:26:21.211124Z",
     "iopub.status.idle": "2022-04-28T15:26:21.840927Z",
     "shell.execute_reply": "2022-04-28T15:26:21.840249Z",
     "shell.execute_reply.started": "2022-04-28T15:15:20.271804Z"
    },
    "papermill": {
     "duration": 0.72918,
     "end_time": "2022-04-28T15:26:21.841089",
     "exception": false,
     "start_time": "2022-04-28T15:26:21.111909",
     "status": "completed"
    },
    "tags": []
   },
   "outputs": [],
   "source": [
    "# Adding 1 because of reserved 0 index\n",
    "vocab_size = len(tokenizer.word_index) + 1 \n",
    "maxlen = 100 \n",
    "X_train = pad_sequences(X_train, padding='post', maxlen=maxlen) \n",
    "X_test = pad_sequences(X_test, padding='post', maxlen=maxlen)"
   ]
  },
  {
   "cell_type": "code",
   "execution_count": 15,
   "id": "0140d2d2",
   "metadata": {
    "execution": {
     "iopub.execute_input": "2022-04-28T15:26:22.025916Z",
     "iopub.status.busy": "2022-04-28T15:26:22.025256Z",
     "iopub.status.idle": "2022-04-28T15:26:22.032032Z",
     "shell.execute_reply": "2022-04-28T15:26:22.031537Z",
     "shell.execute_reply.started": "2022-04-28T13:45:56.978522Z"
    },
    "papermill": {
     "duration": 0.099555,
     "end_time": "2022-04-28T15:26:22.032159",
     "exception": false,
     "start_time": "2022-04-28T15:26:21.932604",
     "status": "completed"
    },
    "tags": []
   },
   "outputs": [
    {
     "data": {
      "text/plain": [
       "array([[   4,    1,  296, ...,  198,  345, 3812],\n",
       "       [   1,  412,  100, ...,   82,   99,    6],\n",
       "       [ 128, 1307,  108, ...,    0,    0,    0],\n",
       "       ...,\n",
       "       [ 778,    8,   24, ...,    0,    0,    0],\n",
       "       [   8,  347,   10, ...,    0,    0,    0],\n",
       "       [ 274,  100,  121, ...,   67,   69, 1946]], dtype=int32)"
      ]
     },
     "execution_count": 15,
     "metadata": {},
     "output_type": "execute_result"
    }
   ],
   "source": [
    "X_train"
   ]
  },
  {
   "cell_type": "code",
   "execution_count": 16,
   "id": "dce98e24",
   "metadata": {
    "execution": {
     "iopub.execute_input": "2022-04-28T15:26:22.216459Z",
     "iopub.status.busy": "2022-04-28T15:26:22.215761Z",
     "iopub.status.idle": "2022-04-28T15:26:36.972071Z",
     "shell.execute_reply": "2022-04-28T15:26:36.972964Z",
     "shell.execute_reply.started": "2022-04-28T15:15:27.739868Z"
    },
    "papermill": {
     "duration": 14.85288,
     "end_time": "2022-04-28T15:26:36.973141",
     "exception": false,
     "start_time": "2022-04-28T15:26:22.120261",
     "status": "completed"
    },
    "tags": []
   },
   "outputs": [],
   "source": [
    "from numpy import array \n",
    "from numpy import asarray \n",
    "from numpy import zeros \n",
    "def embeddings(path):\n",
    "    embeddings_dictionary = dict() \n",
    "    embeddings_file = open(path) \n",
    "    for line in embeddings_file:\n",
    "        records = line.split()\n",
    "        word = records[0] \n",
    "        vector_dimensions = asarray(records[1:],dtype='float32') \n",
    "        embeddings_dictionary[word] = vector_dimensions\n",
    "    embeddings_file.close()\n",
    "    return embeddings_dictionary\n",
    "embeddings_dictionary=embeddings(\"../input/glove6b100dtxt/glove.6B.100d.txt\")"
   ]
  },
  {
   "cell_type": "code",
   "execution_count": 17,
   "id": "f8f23302",
   "metadata": {
    "execution": {
     "iopub.execute_input": "2022-04-28T15:26:37.155253Z",
     "iopub.status.busy": "2022-04-28T15:26:37.154416Z",
     "iopub.status.idle": "2022-04-28T15:26:37.344482Z",
     "shell.execute_reply": "2022-04-28T15:26:37.343845Z",
     "shell.execute_reply.started": "2022-04-28T13:46:11.144437Z"
    },
    "papermill": {
     "duration": 0.28354,
     "end_time": "2022-04-28T15:26:37.344676",
     "exception": false,
     "start_time": "2022-04-28T15:26:37.061136",
     "status": "completed"
    },
    "tags": []
   },
   "outputs": [],
   "source": [
    "embedding_matrix = zeros((vocab_size, 100)) \n",
    "for word, index in tokenizer.word_index.items(): \n",
    "    embedding_vector = embeddings_dictionary.get(word) \n",
    "    if embedding_vector is not None: \n",
    "        embedding_matrix[index] = embedding_vector\n"
   ]
  },
  {
   "cell_type": "markdown",
   "id": "a91fb801",
   "metadata": {
    "papermill": {
     "duration": 0.089912,
     "end_time": "2022-04-28T15:26:37.551192",
     "exception": false,
     "start_time": "2022-04-28T15:26:37.461280",
     "status": "completed"
    },
    "tags": []
   },
   "source": [
    "**A-Simple model**"
   ]
  },
  {
   "cell_type": "code",
   "execution_count": 18,
   "id": "77925414",
   "metadata": {
    "execution": {
     "iopub.execute_input": "2022-04-28T15:26:37.735120Z",
     "iopub.status.busy": "2022-04-28T15:26:37.733046Z",
     "iopub.status.idle": "2022-04-28T15:26:37.735947Z",
     "shell.execute_reply": "2022-04-28T15:26:37.736449Z",
     "shell.execute_reply.started": "2022-04-28T13:46:11.342419Z"
    },
    "papermill": {
     "duration": 0.097677,
     "end_time": "2022-04-28T15:26:37.736689",
     "exception": false,
     "start_time": "2022-04-28T15:26:37.639012",
     "status": "completed"
    },
    "tags": []
   },
   "outputs": [],
   "source": [
    "def simple_model(X_train,y_train):\n",
    "    model=Sequential()\n",
    "    model.add(Embedding(vocab_size,100,weights=[embedding_matrix],input_length=maxlen,trainable=False))\n",
    "    model.add(Flatten())\n",
    "    model.add(Dense(1,activation='sigmoid'))\n",
    "    model.compile(\"adam\",loss='binary_crossentropy',metrics=[\"acc\"])\n",
    "    history=model.fit(X_train,y_train,epochs=6,batch_size=128,verbose=1,validation_split=0.2)\n",
    "    return model,history\n"
   ]
  },
  {
   "cell_type": "code",
   "execution_count": 19,
   "id": "d875eb1d",
   "metadata": {
    "execution": {
     "iopub.execute_input": "2022-04-28T15:26:37.912762Z",
     "iopub.status.busy": "2022-04-28T15:26:37.912024Z",
     "iopub.status.idle": "2022-04-28T15:26:46.711193Z",
     "shell.execute_reply": "2022-04-28T15:26:46.711742Z",
     "shell.execute_reply.started": "2022-04-28T13:46:11.353644Z"
    },
    "papermill": {
     "duration": 8.889816,
     "end_time": "2022-04-28T15:26:46.711945",
     "exception": false,
     "start_time": "2022-04-28T15:26:37.822129",
     "status": "completed"
    },
    "tags": []
   },
   "outputs": [
    {
     "name": "stderr",
     "output_type": "stream",
     "text": [
      "2022-04-28 15:26:38.019738: I tensorflow/stream_executor/cuda/cuda_gpu_executor.cc:937] successful NUMA node read from SysFS had negative value (-1), but there must be at least one NUMA node, so returning NUMA node zero\n",
      "2022-04-28 15:26:38.125893: I tensorflow/stream_executor/cuda/cuda_gpu_executor.cc:937] successful NUMA node read from SysFS had negative value (-1), but there must be at least one NUMA node, so returning NUMA node zero\n",
      "2022-04-28 15:26:38.127321: I tensorflow/stream_executor/cuda/cuda_gpu_executor.cc:937] successful NUMA node read from SysFS had negative value (-1), but there must be at least one NUMA node, so returning NUMA node zero\n",
      "2022-04-28 15:26:38.128801: I tensorflow/core/platform/cpu_feature_guard.cc:142] This TensorFlow binary is optimized with oneAPI Deep Neural Network Library (oneDNN) to use the following CPU instructions in performance-critical operations:  AVX2 FMA\n",
      "To enable them in other operations, rebuild TensorFlow with the appropriate compiler flags.\n",
      "2022-04-28 15:26:38.129965: I tensorflow/stream_executor/cuda/cuda_gpu_executor.cc:937] successful NUMA node read from SysFS had negative value (-1), but there must be at least one NUMA node, so returning NUMA node zero\n",
      "2022-04-28 15:26:38.130969: I tensorflow/stream_executor/cuda/cuda_gpu_executor.cc:937] successful NUMA node read from SysFS had negative value (-1), but there must be at least one NUMA node, so returning NUMA node zero\n",
      "2022-04-28 15:26:38.132072: I tensorflow/stream_executor/cuda/cuda_gpu_executor.cc:937] successful NUMA node read from SysFS had negative value (-1), but there must be at least one NUMA node, so returning NUMA node zero\n",
      "2022-04-28 15:26:40.306131: I tensorflow/stream_executor/cuda/cuda_gpu_executor.cc:937] successful NUMA node read from SysFS had negative value (-1), but there must be at least one NUMA node, so returning NUMA node zero\n",
      "2022-04-28 15:26:40.307241: I tensorflow/stream_executor/cuda/cuda_gpu_executor.cc:937] successful NUMA node read from SysFS had negative value (-1), but there must be at least one NUMA node, so returning NUMA node zero\n",
      "2022-04-28 15:26:40.308207: I tensorflow/stream_executor/cuda/cuda_gpu_executor.cc:937] successful NUMA node read from SysFS had negative value (-1), but there must be at least one NUMA node, so returning NUMA node zero\n",
      "2022-04-28 15:26:40.309145: I tensorflow/core/common_runtime/gpu/gpu_device.cc:1510] Created device /job:localhost/replica:0/task:0/device:GPU:0 with 15403 MB memory:  -> device: 0, name: Tesla P100-PCIE-16GB, pci bus id: 0000:00:04.0, compute capability: 6.0\n",
      "2022-04-28 15:26:40.818338: I tensorflow/compiler/mlir/mlir_graph_optimization_pass.cc:185] None of the MLIR Optimization Passes are enabled (registered 2)\n"
     ]
    },
    {
     "name": "stdout",
     "output_type": "stream",
     "text": [
      "Epoch 1/6\n",
      "250/250 [==============================] - 2s 3ms/step - loss: 0.6059 - acc: 0.6719 - val_loss: 0.5568 - val_acc: 0.7120\n",
      "Epoch 2/6\n",
      "250/250 [==============================] - 1s 3ms/step - loss: 0.4955 - acc: 0.7634 - val_loss: 0.5200 - val_acc: 0.7454\n",
      "Epoch 3/6\n",
      "250/250 [==============================] - 1s 3ms/step - loss: 0.4593 - acc: 0.7857 - val_loss: 0.5370 - val_acc: 0.7321\n",
      "Epoch 4/6\n",
      "250/250 [==============================] - 1s 3ms/step - loss: 0.4380 - acc: 0.7966 - val_loss: 0.5221 - val_acc: 0.7405\n",
      "Epoch 5/6\n",
      "250/250 [==============================] - 1s 3ms/step - loss: 0.4299 - acc: 0.8025 - val_loss: 0.5315 - val_acc: 0.7429\n",
      "Epoch 6/6\n",
      "250/250 [==============================] - 1s 3ms/step - loss: 0.4038 - acc: 0.8186 - val_loss: 0.5321 - val_acc: 0.7435\n"
     ]
    }
   ],
   "source": [
    "model,history=simple_model(X_train,y_train)"
   ]
  },
  {
   "cell_type": "code",
   "execution_count": 20,
   "id": "56578de1",
   "metadata": {
    "execution": {
     "iopub.execute_input": "2022-04-28T15:26:46.966376Z",
     "iopub.status.busy": "2022-04-28T15:26:46.965312Z",
     "iopub.status.idle": "2022-04-28T15:26:47.704537Z",
     "shell.execute_reply": "2022-04-28T15:26:47.705341Z",
     "shell.execute_reply.started": "2022-04-28T13:46:19.909783Z"
    },
    "papermill": {
     "duration": 0.869897,
     "end_time": "2022-04-28T15:26:47.705608",
     "exception": false,
     "start_time": "2022-04-28T15:26:46.835711",
     "status": "completed"
    },
    "tags": []
   },
   "outputs": [
    {
     "name": "stdout",
     "output_type": "stream",
     "text": [
      "313/313 [==============================] - 1s 2ms/step - loss: 0.5356 - acc: 0.7419\n",
      "Test Score: 0.5355772972106934\n",
      "Test Accuracy: 0.7419000267982483\n"
     ]
    }
   ],
   "source": [
    "score = model.evaluate(X_test, y_test, verbose=1)\n",
    "print(\"Test Score:\", score[0]) \n",
    "print(\"Test Accuracy:\", score[1])"
   ]
  },
  {
   "cell_type": "code",
   "execution_count": 21,
   "id": "ebdfaf8b",
   "metadata": {
    "execution": {
     "iopub.execute_input": "2022-04-28T15:26:47.970665Z",
     "iopub.status.busy": "2022-04-28T15:26:47.969885Z",
     "iopub.status.idle": "2022-04-28T15:26:47.974221Z",
     "shell.execute_reply": "2022-04-28T15:26:47.974858Z",
     "shell.execute_reply.started": "2022-04-28T13:46:21.237508Z"
    },
    "jupyter": {
     "source_hidden": true
    },
    "papermill": {
     "duration": 0.139818,
     "end_time": "2022-04-28T15:26:47.975008",
     "exception": false,
     "start_time": "2022-04-28T15:26:47.835190",
     "status": "completed"
    },
    "tags": []
   },
   "outputs": [],
   "source": [
    "import matplotlib.pyplot as plt\n",
    "def plotting(history):\n",
    "    plt.plot(history.history['acc']) \n",
    "    plt.plot(history.history['val_acc'])\n",
    "    plt.title('model accuracy')\n",
    "    plt.ylabel('accuracy')\n",
    "    plt.xlabel('epoch')\n",
    "    plt.legend(['train','test'], loc='upper left') \n",
    "    plt.show() \n",
    "    plt.plot(history.history['loss']) \n",
    "    plt.plot(history.history['val_loss'])\n",
    "    plt.title('model loss')\n",
    "    plt.ylabel('loss') \n",
    "    plt.xlabel('epoch')\n",
    "    plt.legend(['train','test'], loc='upper left') \n",
    "    plt.show()\n"
   ]
  },
  {
   "cell_type": "code",
   "execution_count": 22,
   "id": "667ffce4",
   "metadata": {
    "execution": {
     "iopub.execute_input": "2022-04-28T15:26:48.246841Z",
     "iopub.status.busy": "2022-04-28T15:26:48.242939Z",
     "iopub.status.idle": "2022-04-28T15:26:48.697781Z",
     "shell.execute_reply": "2022-04-28T15:26:48.697122Z",
     "shell.execute_reply.started": "2022-04-28T13:46:21.248957Z"
    },
    "papermill": {
     "duration": 0.598277,
     "end_time": "2022-04-28T15:26:48.697954",
     "exception": false,
     "start_time": "2022-04-28T15:26:48.099677",
     "status": "completed"
    },
    "tags": []
   },
   "outputs": [
    {
     "data": {
      "image/png": "[encoded data removed]",
      "text/plain": [
       "<Figure size 432x288 with 1 Axes>"
      ]
     },
     "metadata": {
      "needs_background": "light"
     },
     "output_type": "display_data"
    },
    {
     "data": {
      "image/png": "[encoded data removed]",
      "text/plain": [
       "<Figure size 432x288 with 1 Axes>"
      ]
     },
     "metadata": {
      "needs_background": "light"
     },
     "output_type": "display_data"
    }
   ],
   "source": [
    "plotting(history)"
   ]
  },
  {
   "cell_type": "markdown",
   "id": "79be5826",
   "metadata": {
    "papermill": {
     "duration": 0.131366,
     "end_time": "2022-04-28T15:26:48.960726",
     "exception": false,
     "start_time": "2022-04-28T15:26:48.829360",
     "status": "completed"
    },
    "tags": []
   },
   "source": [
    "**B-CNN model**"
   ]
  },
  {
   "cell_type": "code",
   "execution_count": 23,
   "id": "6da7a989",
   "metadata": {
    "execution": {
     "iopub.execute_input": "2022-04-28T15:26:49.235262Z",
     "iopub.status.busy": "2022-04-28T15:26:49.234152Z",
     "iopub.status.idle": "2022-04-28T15:26:49.237875Z",
     "shell.execute_reply": "2022-04-28T15:26:49.237179Z",
     "shell.execute_reply.started": "2022-04-28T15:18:29.244450Z"
    },
    "papermill": {
     "duration": 0.144524,
     "end_time": "2022-04-28T15:26:49.238015",
     "exception": false,
     "start_time": "2022-04-28T15:26:49.093491",
     "status": "completed"
    },
    "tags": []
   },
   "outputs": [],
   "source": [
    "def model_cnn(X_train,y_train):\n",
    "    model_cnn=Sequential()\n",
    "\n",
    "    model_cnn.add(Embedding(vocab_size, 100, weights=[embedding_matrix],input_length=maxlen))\n",
    "    model_cnn.add(Conv1D(128,5,activation='relu'))\n",
    "    model_cnn.add(GlobalMaxPooling1D())\n",
    "    model_cnn.add(Dense(1,activation='sigmoid'))\n",
    "    model_cnn.compile(loss='binary_crossentropy',optimizer='adam',metrics=['acc'])\n",
    "    history=model_cnn.fit(X_train,y_train,epochs=6,batch_size=128,verbose=1,validation_split=0.2)\n",
    "    return model_cnn,history\n",
    "\n",
    "        "
   ]
  },
  {
   "cell_type": "code",
   "execution_count": 24,
   "id": "c415fdf7",
   "metadata": {
    "execution": {
     "iopub.execute_input": "2022-04-28T15:26:49.510570Z",
     "iopub.status.busy": "2022-04-28T15:26:49.509594Z",
     "iopub.status.idle": "2022-04-28T15:27:07.215635Z",
     "shell.execute_reply": "2022-04-28T15:27:07.216365Z",
     "shell.execute_reply.started": "2022-04-28T13:46:21.742456Z"
    },
    "papermill": {
     "duration": 17.844681,
     "end_time": "2022-04-28T15:27:07.216722",
     "exception": false,
     "start_time": "2022-04-28T15:26:49.372041",
     "status": "completed"
    },
    "tags": []
   },
   "outputs": [
    {
     "name": "stdout",
     "output_type": "stream",
     "text": [
      "Epoch 1/6\n"
     ]
    },
    {
     "name": "stderr",
     "output_type": "stream",
     "text": [
      "2022-04-28 15:26:50.943296: I tensorflow/stream_executor/cuda/cuda_dnn.cc:369] Loaded cuDNN version 8005\n"
     ]
    },
    {
     "name": "stdout",
     "output_type": "stream",
     "text": [
      "250/250 [==============================] - 8s 9ms/step - loss: 0.4669 - acc: 0.7743 - val_loss: 0.3574 - val_acc: 0.8391\n",
      "Epoch 2/6\n",
      "250/250 [==============================] - 2s 7ms/step - loss: 0.3142 - acc: 0.8663 - val_loss: 0.3234 - val_acc: 0.8568\n",
      "Epoch 3/6\n",
      "250/250 [==============================] - 2s 9ms/step - loss: 0.2426 - acc: 0.9045 - val_loss: 0.3139 - val_acc: 0.8644\n",
      "Epoch 4/6\n",
      "250/250 [==============================] - 2s 7ms/step - loss: 0.1942 - acc: 0.9283 - val_loss: 0.3324 - val_acc: 0.8571\n",
      "Epoch 5/6\n",
      "250/250 [==============================] - 2s 7ms/step - loss: 0.1464 - acc: 0.9533 - val_loss: 0.3348 - val_acc: 0.8627\n",
      "Epoch 6/6\n",
      "250/250 [==============================] - 2s 7ms/step - loss: 0.1044 - acc: 0.9740 - val_loss: 0.3378 - val_acc: 0.8652\n"
     ]
    }
   ],
   "source": [
    "model_cnn,history=model_cnn(X_train,y_train)"
   ]
  },
  {
   "cell_type": "code",
   "execution_count": 25,
   "id": "27261a67",
   "metadata": {
    "execution": {
     "iopub.execute_input": "2022-04-28T15:27:07.980516Z",
     "iopub.status.busy": "2022-04-28T15:27:07.976340Z",
     "iopub.status.idle": "2022-04-28T15:27:09.325681Z",
     "shell.execute_reply": "2022-04-28T15:27:09.324361Z",
     "shell.execute_reply.started": "2022-04-28T13:46:42.861119Z"
    },
    "papermill": {
     "duration": 1.801934,
     "end_time": "2022-04-28T15:27:09.325896",
     "exception": false,
     "start_time": "2022-04-28T15:27:07.523962",
     "status": "completed"
    },
    "tags": []
   },
   "outputs": [
    {
     "name": "stdout",
     "output_type": "stream",
     "text": [
      "313/313 [==============================] - 1s 3ms/step - loss: 0.3136 - acc: 0.8718\n",
      "Test Score: 0.3135591447353363\n",
      "Test Accuracy: 0.8718000054359436\n"
     ]
    }
   ],
   "source": [
    "score = model_cnn.evaluate(X_test, y_test, verbose=1)\n",
    "print(\"Test Score:\", score[0]) \n",
    "print(\"Test Accuracy:\", score[1])"
   ]
  },
  {
   "cell_type": "code",
   "execution_count": 26,
   "id": "a1ae4518",
   "metadata": {
    "execution": {
     "iopub.execute_input": "2022-04-28T15:27:09.876129Z",
     "iopub.status.busy": "2022-04-28T15:27:09.858259Z",
     "iopub.status.idle": "2022-04-28T15:27:10.339917Z",
     "shell.execute_reply": "2022-04-28T15:27:10.339259Z",
     "shell.execute_reply.started": "2022-04-28T13:46:43.735512Z"
    },
    "papermill": {
     "duration": 0.758496,
     "end_time": "2022-04-28T15:27:10.340113",
     "exception": false,
     "start_time": "2022-04-28T15:27:09.581617",
     "status": "completed"
    },
    "tags": []
   },
   "outputs": [
    {
     "data": {
      "image/png": "[encoded data removed]",
      "text/plain": [
       "<Figure size 432x288 with 1 Axes>"
      ]
     },
     "metadata": {
      "needs_background": "light"
     },
     "output_type": "display_data"
    },
    {
     "data": {
      "image/png": "[encoded data removed]",
      "text/plain": [
       "<Figure size 432x288 with 1 Axes>"
      ]
     },
     "metadata": {
      "needs_background": "light"
     },
     "output_type": "display_data"
    }
   ],
   "source": [
    "plotting(history)"
   ]
  },
  {
   "cell_type": "markdown",
   "id": "7cff9c5b",
   "metadata": {
    "papermill": {
     "duration": 0.215982,
     "end_time": "2022-04-28T15:27:10.801256",
     "exception": false,
     "start_time": "2022-04-28T15:27:10.585274",
     "status": "completed"
    },
    "tags": []
   },
   "source": [
    "**3-RNN model**"
   ]
  },
  {
   "cell_type": "code",
   "execution_count": 27,
   "id": "2e6a95d0",
   "metadata": {
    "execution": {
     "iopub.execute_input": "2022-04-28T15:27:11.256736Z",
     "iopub.status.busy": "2022-04-28T15:27:11.255567Z",
     "iopub.status.idle": "2022-04-28T15:27:11.259102Z",
     "shell.execute_reply": "2022-04-28T15:27:11.258496Z",
     "shell.execute_reply.started": "2022-04-28T15:18:37.959922Z"
    },
    "papermill": {
     "duration": 0.233051,
     "end_time": "2022-04-28T15:27:11.259231",
     "exception": false,
     "start_time": "2022-04-28T15:27:11.026180",
     "status": "completed"
    },
    "tags": []
   },
   "outputs": [],
   "source": [
    "def model_RNN(X_train,y_train,l,embedding_matrix):\n",
    "    model_rnn=Sequential()\n",
    "    model_rnn.add(Embedding(vocab_size, l, weights=[embedding_matrix],input_length=maxlen))\n",
    "    model_rnn.add(LSTM(128))\n",
    "    model_rnn.add(Dense(1,activation='sigmoid'))\n",
    "    model_rnn.compile(loss='binary_crossentropy',optimizer='adam',metrics=['acc'])\n",
    "    history=model_rnn.fit(X_train,y_train,epochs=6,batch_size=128,verbose=1,validation_split=0.2)\n",
    "    return model_rnn,history"
   ]
  },
  {
   "cell_type": "code",
   "execution_count": 28,
   "id": "d7e4fcee",
   "metadata": {
    "execution": {
     "iopub.execute_input": "2022-04-28T15:27:11.701810Z",
     "iopub.status.busy": "2022-04-28T15:27:11.701115Z",
     "iopub.status.idle": "2022-04-28T15:27:34.050549Z",
     "shell.execute_reply": "2022-04-28T15:27:34.051049Z",
     "shell.execute_reply.started": "2022-04-28T13:49:09.856189Z"
    },
    "papermill": {
     "duration": 22.572974,
     "end_time": "2022-04-28T15:27:34.051229",
     "exception": false,
     "start_time": "2022-04-28T15:27:11.478255",
     "status": "completed"
    },
    "tags": []
   },
   "outputs": [
    {
     "name": "stdout",
     "output_type": "stream",
     "text": [
      "Epoch 1/6\n",
      "250/250 [==============================] - 6s 14ms/step - loss: 0.4878 - acc: 0.7607 - val_loss: 0.3706 - val_acc: 0.8396\n",
      "Epoch 2/6\n",
      "250/250 [==============================] - 3s 13ms/step - loss: 0.3362 - acc: 0.8591 - val_loss: 0.3294 - val_acc: 0.8579\n",
      "Epoch 3/6\n",
      "250/250 [==============================] - 3s 13ms/step - loss: 0.2912 - acc: 0.8792 - val_loss: 0.3224 - val_acc: 0.8630\n",
      "Epoch 4/6\n",
      "250/250 [==============================] - 3s 13ms/step - loss: 0.2618 - acc: 0.8941 - val_loss: 0.3212 - val_acc: 0.8654\n",
      "Epoch 5/6\n",
      "250/250 [==============================] - 3s 13ms/step - loss: 0.2328 - acc: 0.9086 - val_loss: 0.3272 - val_acc: 0.8674\n",
      "Epoch 6/6\n",
      "250/250 [==============================] - 3s 13ms/step - loss: 0.2092 - acc: 0.9193 - val_loss: 0.3332 - val_acc: 0.8637\n"
     ]
    }
   ],
   "source": [
    "model_rnn,history=model_RNN(X_train,y_train,100,embedding_matrix)"
   ]
  },
  {
   "cell_type": "code",
   "execution_count": 29,
   "id": "e44759f9",
   "metadata": {
    "execution": {
     "iopub.execute_input": "2022-04-28T15:27:35.213616Z",
     "iopub.status.busy": "2022-04-28T15:27:35.212275Z",
     "iopub.status.idle": "2022-04-28T15:27:36.676642Z",
     "shell.execute_reply": "2022-04-28T15:27:36.677234Z",
     "shell.execute_reply.started": "2022-04-28T13:46:44.544928Z"
    },
    "papermill": {
     "duration": 1.992523,
     "end_time": "2022-04-28T15:27:36.677427",
     "exception": false,
     "start_time": "2022-04-28T15:27:34.684904",
     "status": "completed"
    },
    "tags": []
   },
   "outputs": [
    {
     "name": "stdout",
     "output_type": "stream",
     "text": [
      "313/313 [==============================] - 1s 4ms/step - loss: 0.3233 - acc: 0.8640\n",
      "Test Score: 0.323274165391922\n",
      "Test Accuracy: 0.8640000224113464\n"
     ]
    }
   ],
   "source": [
    "score = model_rnn.evaluate(X_test, y_test, verbose=1)\n",
    "print(\"Test Score:\", score[0]) \n",
    "print(\"Test Accuracy:\", score[1])"
   ]
  },
  {
   "cell_type": "markdown",
   "id": "0086f4d2",
   "metadata": {
    "papermill": {
     "duration": 0.376,
     "end_time": "2022-04-28T15:27:37.444117",
     "exception": false,
     "start_time": "2022-04-28T15:27:37.068117",
     "status": "completed"
    },
    "tags": []
   },
   "source": [
    "**Polarité**"
   ]
  },
  {
   "cell_type": "code",
   "execution_count": 30,
   "id": "156cfaa1",
   "metadata": {
    "execution": {
     "iopub.execute_input": "2022-04-28T15:27:38.164653Z",
     "iopub.status.busy": "2022-04-28T15:27:38.163666Z",
     "iopub.status.idle": "2022-04-28T15:27:38.586858Z",
     "shell.execute_reply": "2022-04-28T15:27:38.587407Z",
     "shell.execute_reply.started": "2022-04-28T13:46:44.547641Z"
    },
    "papermill": {
     "duration": 0.784452,
     "end_time": "2022-04-28T15:27:38.587607",
     "exception": false,
     "start_time": "2022-04-28T15:27:37.803155",
     "status": "completed"
    },
    "tags": []
   },
   "outputs": [
    {
     "name": "stdout",
     "output_type": "stream",
     "text": [
      "[0]\n"
     ]
    }
   ],
   "source": [
    "predict_x=model_rnn.predict(X_test[7:8]) \n",
    "classes_x=np.argmax(predict_x,axis=1)\n",
    "print(classes_x)"
   ]
  },
  {
   "cell_type": "code",
   "execution_count": 31,
   "id": "4784c9c1",
   "metadata": {
    "execution": {
     "iopub.execute_input": "2022-04-28T15:27:39.319661Z",
     "iopub.status.busy": "2022-04-28T15:27:39.317575Z",
     "iopub.status.idle": "2022-04-28T15:27:39.767032Z",
     "shell.execute_reply": "2022-04-28T15:27:39.767517Z",
     "shell.execute_reply.started": "2022-04-28T13:46:44.550106Z"
    },
    "papermill": {
     "duration": 0.832054,
     "end_time": "2022-04-28T15:27:39.767720",
     "exception": false,
     "start_time": "2022-04-28T15:27:38.935666",
     "status": "completed"
    },
    "tags": []
   },
   "outputs": [
    {
     "data": {
      "image/png": "[encoded data removed]",
      "text/plain": [
       "<Figure size 432x288 with 1 Axes>"
      ]
     },
     "metadata": {
      "needs_background": "light"
     },
     "output_type": "display_data"
    },
    {
     "data": {
      "image/png": "[encoded data removed]",
      "text/plain": [
       "<Figure size 432x288 with 1 Axes>"
      ]
     },
     "metadata": {
      "needs_background": "light"
     },
     "output_type": "display_data"
    }
   ],
   "source": [
    "plotting(history)"
   ]
  },
  {
   "cell_type": "markdown",
   "id": "c4de3179",
   "metadata": {
    "papermill": {
     "duration": 0.48069,
     "end_time": "2022-04-28T15:27:40.612896",
     "exception": false,
     "start_time": "2022-04-28T15:27:40.132206",
     "status": "completed"
    },
    "tags": []
   },
   "source": [
    "**Classement des 3 models**\n",
    "1. rnn\n",
    "2. cnn\n",
    "3. simple model"
   ]
  },
  {
   "cell_type": "markdown",
   "id": "261143a1",
   "metadata": {
    "papermill": {
     "duration": 0.363472,
     "end_time": "2022-04-28T15:27:41.513250",
     "exception": false,
     "start_time": "2022-04-28T15:27:41.149778",
     "status": "completed"
    },
    "tags": []
   },
   "source": [
    "**RNN with GRU**"
   ]
  },
  {
   "cell_type": "code",
   "execution_count": 32,
   "id": "6f9181a7",
   "metadata": {
    "execution": {
     "iopub.execute_input": "2022-04-28T15:27:42.243131Z",
     "iopub.status.busy": "2022-04-28T15:27:42.241060Z",
     "iopub.status.idle": "2022-04-28T15:27:42.243938Z",
     "shell.execute_reply": "2022-04-28T15:27:42.244398Z",
     "shell.execute_reply.started": "2022-04-28T15:18:45.883852Z"
    },
    "papermill": {
     "duration": 0.373461,
     "end_time": "2022-04-28T15:27:42.244627",
     "exception": false,
     "start_time": "2022-04-28T15:27:41.871166",
     "status": "completed"
    },
    "tags": []
   },
   "outputs": [],
   "source": [
    "def model_GRU(X_train,y_train,l,embedding_matrix):\n",
    "    model_rnn=Sequential()\n",
    "    model_rnn.add(Embedding(vocab_size, l, weights=[embedding_matrix],input_length=maxlen))\n",
    "    model_rnn.add(GRU(128))\n",
    "    model_rnn.add(Dense(1,activation='sigmoid'))\n",
    "    model_rnn.compile(loss='binary_crossentropy',optimizer='adam',metrics=['acc'])\n",
    "    history=model_rnn.fit(X_train,y_train,epochs=6,batch_size=128,verbose=1,validation_split=0.2)\n",
    "    return model_rnn,history"
   ]
  },
  {
   "cell_type": "code",
   "execution_count": 33,
   "id": "2014e3d6",
   "metadata": {
    "execution": {
     "iopub.execute_input": "2022-04-28T15:27:42.970789Z",
     "iopub.status.busy": "2022-04-28T15:27:42.969517Z",
     "iopub.status.idle": "2022-04-28T15:28:05.447553Z",
     "shell.execute_reply": "2022-04-28T15:28:05.448107Z",
     "shell.execute_reply.started": "2022-04-28T13:46:44.554910Z"
    },
    "papermill": {
     "duration": 22.847,
     "end_time": "2022-04-28T15:28:05.448353",
     "exception": false,
     "start_time": "2022-04-28T15:27:42.601353",
     "status": "completed"
    },
    "tags": []
   },
   "outputs": [
    {
     "name": "stdout",
     "output_type": "stream",
     "text": [
      "Epoch 1/6\n",
      "250/250 [==============================] - 5s 13ms/step - loss: 0.4999 - acc: 0.7335 - val_loss: 0.3323 - val_acc: 0.8540\n",
      "Epoch 2/6\n",
      "250/250 [==============================] - 3s 12ms/step - loss: 0.3054 - acc: 0.8697 - val_loss: 0.3089 - val_acc: 0.8661\n",
      "Epoch 3/6\n",
      "250/250 [==============================] - 3s 12ms/step - loss: 0.2581 - acc: 0.8945 - val_loss: 0.3092 - val_acc: 0.8691\n",
      "Epoch 4/6\n",
      "250/250 [==============================] - 3s 12ms/step - loss: 0.2239 - acc: 0.9113 - val_loss: 0.3268 - val_acc: 0.8666\n",
      "Epoch 5/6\n",
      "250/250 [==============================] - 3s 12ms/step - loss: 0.1934 - acc: 0.9261 - val_loss: 0.3435 - val_acc: 0.8606\n",
      "Epoch 6/6\n",
      "250/250 [==============================] - 3s 12ms/step - loss: 0.1583 - acc: 0.9415 - val_loss: 0.3480 - val_acc: 0.8612\n"
     ]
    }
   ],
   "source": [
    "m,h=model_GRU(X_train,y_train,100,embedding_matrix)"
   ]
  },
  {
   "cell_type": "code",
   "execution_count": 34,
   "id": "017b23ba",
   "metadata": {
    "execution": {
     "iopub.execute_input": "2022-04-28T15:28:06.424231Z",
     "iopub.status.busy": "2022-04-28T15:28:06.423078Z",
     "iopub.status.idle": "2022-04-28T15:28:08.102171Z",
     "shell.execute_reply": "2022-04-28T15:28:08.103848Z",
     "shell.execute_reply.started": "2022-04-28T13:46:44.557345Z"
    },
    "papermill": {
     "duration": 2.174541,
     "end_time": "2022-04-28T15:28:08.104310",
     "exception": false,
     "start_time": "2022-04-28T15:28:05.929769",
     "status": "completed"
    },
    "tags": []
   },
   "outputs": [
    {
     "name": "stdout",
     "output_type": "stream",
     "text": [
      "313/313 [==============================] - 2s 5ms/step - loss: 0.3327 - acc: 0.8649\n",
      "Test Score: 0.3327268958091736\n",
      "Test Accuracy: 0.8648999929428101\n"
     ]
    }
   ],
   "source": [
    "score = m.evaluate(X_test, y_test, verbose=1)\n",
    "print(\"Test Score:\", score[0]) \n",
    "print(\"Test Accuracy:\", score[1])"
   ]
  },
  {
   "cell_type": "code",
   "execution_count": 35,
   "id": "124a12ff",
   "metadata": {
    "execution": {
     "iopub.execute_input": "2022-04-28T15:28:09.236015Z",
     "iopub.status.busy": "2022-04-28T15:28:09.227449Z",
     "iopub.status.idle": "2022-04-28T15:28:09.647864Z",
     "shell.execute_reply": "2022-04-28T15:28:09.648322Z",
     "shell.execute_reply.started": "2022-04-28T13:46:44.559953Z"
    },
    "papermill": {
     "duration": 0.929686,
     "end_time": "2022-04-28T15:28:09.648538",
     "exception": false,
     "start_time": "2022-04-28T15:28:08.718852",
     "status": "completed"
    },
    "tags": []
   },
   "outputs": [
    {
     "data": {
      "image/png": "[encoded data removed]",
      "text/plain": [
       "<Figure size 432x288 with 1 Axes>"
      ]
     },
     "metadata": {
      "needs_background": "light"
     },
     "output_type": "display_data"
    },
    {
     "data": {
      "image/png": "[encoded data removed]",
      "text/plain": [
       "<Figure size 432x288 with 1 Axes>"
      ]
     },
     "metadata": {
      "needs_background": "light"
     },
     "output_type": "display_data"
    }
   ],
   "source": [
    "plotting(h)"
   ]
  },
  {
   "cell_type": "markdown",
   "id": "b885dcab",
   "metadata": {
    "papermill": {
     "duration": 0.499557,
     "end_time": "2022-04-28T15:28:10.652607",
     "exception": false,
     "start_time": "2022-04-28T15:28:10.153050",
     "status": "completed"
    },
    "tags": []
   },
   "source": [
    "**RNN+CNN**\n",
    "\n"
   ]
  },
  {
   "cell_type": "code",
   "execution_count": 36,
   "id": "9d6c3815",
   "metadata": {
    "execution": {
     "iopub.execute_input": "2022-04-28T15:28:11.668312Z",
     "iopub.status.busy": "2022-04-28T15:28:11.667105Z",
     "iopub.status.idle": "2022-04-28T15:28:11.669584Z",
     "shell.execute_reply": "2022-04-28T15:28:11.670058Z",
     "shell.execute_reply.started": "2022-04-28T15:24:13.303066Z"
    },
    "papermill": {
     "duration": 0.514312,
     "end_time": "2022-04-28T15:28:11.670216",
     "exception": false,
     "start_time": "2022-04-28T15:28:11.155904",
     "status": "completed"
    },
    "tags": []
   },
   "outputs": [],
   "source": [
    "def model_RNNCNN(X_train,y_train,l,embedding_matrix):\n",
    "    modelx = Sequential()\n",
    "    modelx.add((Embedding(vocab_size,l, weights=[embedding_matrix],input_length=maxlen)))\n",
    "    modelx.add(Conv1D(filters=128, kernel_size=5, activation='relu'))\n",
    "    modelx.add(MaxPooling1D(pool_size=2))\n",
    "    modelx.add(LSTM(128))\n",
    "    modelx.add(Dense(1, activation='sigmoid'))\n",
    "    modelx.compile(loss='binary_crossentropy', optimizer='adam', metrics=['accuracy'])\n",
    "    history=modelx.fit(X_train,y_train,epochs=6,batch_size=128,verbose=1,validation_split=0.2)\n",
    "    return modelx,history"
   ]
  },
  {
   "cell_type": "code",
   "execution_count": 37,
   "id": "157bc50e",
   "metadata": {
    "execution": {
     "iopub.execute_input": "2022-04-28T15:28:12.692535Z",
     "iopub.status.busy": "2022-04-28T15:28:12.691337Z",
     "iopub.status.idle": "2022-04-28T15:28:32.366241Z",
     "shell.execute_reply": "2022-04-28T15:28:32.366843Z",
     "shell.execute_reply.started": "2022-04-28T13:46:44.566410Z"
    },
    "papermill": {
     "duration": 20.190579,
     "end_time": "2022-04-28T15:28:32.367055",
     "exception": false,
     "start_time": "2022-04-28T15:28:12.176476",
     "status": "completed"
    },
    "tags": []
   },
   "outputs": [
    {
     "name": "stdout",
     "output_type": "stream",
     "text": [
      "Epoch 1/6\n",
      "250/250 [==============================] - 5s 13ms/step - loss: 0.4947 - accuracy: 0.7480 - val_loss: 0.3575 - val_accuracy: 0.8422\n",
      "Epoch 2/6\n",
      "250/250 [==============================] - 3s 11ms/step - loss: 0.3202 - accuracy: 0.8649 - val_loss: 0.3123 - val_accuracy: 0.8658\n",
      "Epoch 3/6\n",
      "250/250 [==============================] - 3s 11ms/step - loss: 0.2705 - accuracy: 0.8882 - val_loss: 0.3142 - val_accuracy: 0.8680\n",
      "Epoch 4/6\n",
      "250/250 [==============================] - 3s 12ms/step - loss: 0.2226 - accuracy: 0.9126 - val_loss: 0.3323 - val_accuracy: 0.8626\n",
      "Epoch 5/6\n",
      "250/250 [==============================] - 3s 11ms/step - loss: 0.1877 - accuracy: 0.9280 - val_loss: 0.3837 - val_accuracy: 0.8462\n",
      "Epoch 6/6\n",
      "250/250 [==============================] - 3s 11ms/step - loss: 0.1530 - accuracy: 0.9427 - val_loss: 0.3881 - val_accuracy: 0.8456\n"
     ]
    }
   ],
   "source": [
    "x,h=model_RNNCNN(X_train,y_train,100,embedding_matrix)"
   ]
  },
  {
   "cell_type": "code",
   "execution_count": 38,
   "id": "c25f0177",
   "metadata": {
    "execution": {
     "iopub.execute_input": "2022-04-28T15:28:33.637176Z",
     "iopub.status.busy": "2022-04-28T15:28:33.635942Z",
     "iopub.status.idle": "2022-04-28T15:28:34.875301Z",
     "shell.execute_reply": "2022-04-28T15:28:34.875927Z",
     "shell.execute_reply.started": "2022-04-28T13:46:44.568683Z"
    },
    "papermill": {
     "duration": 1.875923,
     "end_time": "2022-04-28T15:28:34.876108",
     "exception": false,
     "start_time": "2022-04-28T15:28:33.000185",
     "status": "completed"
    },
    "tags": []
   },
   "outputs": [
    {
     "name": "stdout",
     "output_type": "stream",
     "text": [
      "313/313 [==============================] - 1s 4ms/step - loss: 0.3699 - accuracy: 0.8473\n",
      "Test Score: 0.3699040114879608\n",
      "Test Accuracy: 0.8472999930381775\n"
     ]
    }
   ],
   "source": [
    "score = x.evaluate(X_test, y_test, verbose=1)\n",
    "print(\"Test Score:\", score[0]) \n",
    "print(\"Test Accuracy:\", score[1])"
   ]
  },
  {
   "cell_type": "markdown",
   "id": "148b9555",
   "metadata": {
    "papermill": {
     "duration": 0.782155,
     "end_time": "2022-04-28T15:28:36.453204",
     "exception": false,
     "start_time": "2022-04-28T15:28:35.671049",
     "status": "completed"
    },
    "tags": []
   },
   "source": [
    "**Word2Vec**"
   ]
  },
  {
   "cell_type": "code",
   "execution_count": 39,
   "id": "c3f9ac2c",
   "metadata": {
    "execution": {
     "iopub.execute_input": "2022-04-28T15:28:37.822642Z",
     "iopub.status.busy": "2022-04-28T15:28:37.821880Z",
     "iopub.status.idle": "2022-04-28T15:29:31.088303Z",
     "shell.execute_reply": "2022-04-28T15:29:31.089278Z",
     "shell.execute_reply.started": "2022-04-28T13:46:44.571744Z"
    },
    "papermill": {
     "duration": 53.934142,
     "end_time": "2022-04-28T15:29:31.089522",
     "exception": false,
     "start_time": "2022-04-28T15:28:37.155380",
     "status": "completed"
    },
    "tags": []
   },
   "outputs": [],
   "source": [
    "word2vec=embeddings(\"../input/original-embeddings/GoogleNews-vectors-negative300(first500000).txt\")"
   ]
  },
  {
   "cell_type": "code",
   "execution_count": 40,
   "id": "b912cb8f",
   "metadata": {
    "execution": {
     "iopub.execute_input": "2022-04-28T15:29:32.422789Z",
     "iopub.status.busy": "2022-04-28T15:29:32.421702Z",
     "iopub.status.idle": "2022-04-28T15:29:32.648892Z",
     "shell.execute_reply": "2022-04-28T15:29:32.648248Z",
     "shell.execute_reply.started": "2022-04-28T13:46:44.574543Z"
    },
    "papermill": {
     "duration": 0.888009,
     "end_time": "2022-04-28T15:29:32.649042",
     "exception": false,
     "start_time": "2022-04-28T15:29:31.761033",
     "status": "completed"
    },
    "tags": []
   },
   "outputs": [],
   "source": [
    "embedding_matrix1 = zeros((vocab_size, 300)) \n",
    "for word, index in tokenizer.word_index.items(): \n",
    "    embedding_vector = word2vec.get(word) \n",
    "    if embedding_vector is not None: \n",
    "        embedding_matrix1[index] = embedding_vector"
   ]
  },
  {
   "cell_type": "code",
   "execution_count": 41,
   "id": "e10f4fe6",
   "metadata": {
    "execution": {
     "iopub.execute_input": "2022-04-28T15:29:33.960889Z",
     "iopub.status.busy": "2022-04-28T15:29:33.959998Z",
     "iopub.status.idle": "2022-04-28T15:29:33.963515Z",
     "shell.execute_reply": "2022-04-28T15:29:33.964035Z",
     "shell.execute_reply.started": "2022-04-28T13:46:44.577658Z"
    },
    "papermill": {
     "duration": 0.662262,
     "end_time": "2022-04-28T15:29:33.964190",
     "exception": false,
     "start_time": "2022-04-28T15:29:33.301928",
     "status": "completed"
    },
    "tags": []
   },
   "outputs": [
    {
     "data": {
      "text/plain": [
       "array([[ 0.        ,  0.        ,  0.        , ...,  0.        ,\n",
       "         0.        ,  0.        ],\n",
       "       [ 0.08007812,  0.10498047,  0.04980469, ...,  0.00366211,\n",
       "         0.04760742, -0.06884766],\n",
       "       [ 0.        ,  0.        ,  0.        , ...,  0.        ,\n",
       "         0.        ,  0.        ],\n",
       "       ...,\n",
       "       [ 0.        ,  0.        ,  0.        , ...,  0.        ,\n",
       "         0.        ,  0.        ],\n",
       "       [ 0.        ,  0.        ,  0.        , ...,  0.        ,\n",
       "         0.        ,  0.        ],\n",
       "       [ 0.        ,  0.        ,  0.        , ...,  0.        ,\n",
       "         0.        ,  0.        ]])"
      ]
     },
     "execution_count": 41,
     "metadata": {},
     "output_type": "execute_result"
    }
   ],
   "source": [
    "embedding_matrix1"
   ]
  },
  {
   "cell_type": "code",
   "execution_count": 42,
   "id": "27d197ba",
   "metadata": {
    "execution": {
     "iopub.execute_input": "2022-04-28T15:29:35.287154Z",
     "iopub.status.busy": "2022-04-28T15:29:35.286039Z",
     "iopub.status.idle": "2022-04-28T15:30:18.463791Z",
     "shell.execute_reply": "2022-04-28T15:30:18.463120Z",
     "shell.execute_reply.started": "2022-04-28T13:46:44.580268Z"
    },
    "papermill": {
     "duration": 43.847026,
     "end_time": "2022-04-28T15:30:18.463974",
     "exception": false,
     "start_time": "2022-04-28T15:29:34.616948",
     "status": "completed"
    },
    "tags": []
   },
   "outputs": [
    {
     "name": "stdout",
     "output_type": "stream",
     "text": [
      "Epoch 1/6\n",
      "250/250 [==============================] - 7s 20ms/step - loss: 0.3999 - accuracy: 0.8092 - val_loss: 0.3286 - val_accuracy: 0.8675\n",
      "Epoch 2/6\n",
      "250/250 [==============================] - 5s 18ms/step - loss: 0.2761 - accuracy: 0.8884 - val_loss: 0.3177 - val_accuracy: 0.8706\n",
      "Epoch 3/6\n",
      "250/250 [==============================] - 5s 18ms/step - loss: 0.2176 - accuracy: 0.9148 - val_loss: 0.3593 - val_accuracy: 0.8645\n",
      "Epoch 4/6\n",
      "250/250 [==============================] - 5s 18ms/step - loss: 0.1533 - accuracy: 0.9440 - val_loss: 0.3676 - val_accuracy: 0.8659\n",
      "Epoch 5/6\n",
      "250/250 [==============================] - 4s 18ms/step - loss: 0.0838 - accuracy: 0.9730 - val_loss: 0.4544 - val_accuracy: 0.8590\n",
      "Epoch 6/6\n",
      "250/250 [==============================] - 4s 18ms/step - loss: 0.0438 - accuracy: 0.9877 - val_loss: 0.5799 - val_accuracy: 0.8549\n"
     ]
    }
   ],
   "source": [
    "x1,his=model_RNNCNN(X_train,y_train,300,embedding_matrix1)"
   ]
  },
  {
   "cell_type": "code",
   "execution_count": 43,
   "id": "0d7089af",
   "metadata": {
    "execution": {
     "iopub.execute_input": "2022-04-28T15:30:20.752707Z",
     "iopub.status.busy": "2022-04-28T15:30:20.751650Z",
     "iopub.status.idle": "2022-04-28T15:30:21.993231Z",
     "shell.execute_reply": "2022-04-28T15:30:21.994079Z",
     "shell.execute_reply.started": "2022-04-28T13:46:44.587056Z"
    },
    "papermill": {
     "duration": 2.629043,
     "end_time": "2022-04-28T15:30:21.994322",
     "exception": false,
     "start_time": "2022-04-28T15:30:19.365279",
     "status": "completed"
    },
    "tags": []
   },
   "outputs": [
    {
     "name": "stdout",
     "output_type": "stream",
     "text": [
      "313/313 [==============================] - 1s 4ms/step - loss: 0.5599 - accuracy: 0.8578\n",
      "Test Score: 0.5598547458648682\n",
      "Test Accuracy: 0.8578000068664551\n"
     ]
    }
   ],
   "source": [
    "score = x1.evaluate(X_test, y_test, verbose=1)\n",
    "print(\"Test Score:\", score[0]) \n",
    "print(\"Test Accuracy:\", score[1])"
   ]
  },
  {
   "cell_type": "code",
   "execution_count": 44,
   "id": "26115ced",
   "metadata": {
    "execution": {
     "iopub.execute_input": "2022-04-28T15:30:23.659102Z",
     "iopub.status.busy": "2022-04-28T15:30:23.658002Z",
     "iopub.status.idle": "2022-04-28T15:31:06.890728Z",
     "shell.execute_reply": "2022-04-28T15:31:06.890091Z",
     "shell.execute_reply.started": "2022-04-28T13:46:44.592262Z"
    },
    "papermill": {
     "duration": 44.06363,
     "end_time": "2022-04-28T15:31:06.890873",
     "exception": false,
     "start_time": "2022-04-28T15:30:22.827243",
     "status": "completed"
    },
    "tags": []
   },
   "outputs": [
    {
     "name": "stdout",
     "output_type": "stream",
     "text": [
      "Epoch 1/6\n",
      "250/250 [==============================] - 7s 21ms/step - loss: 0.4130 - acc: 0.8104 - val_loss: 0.3302 - val_acc: 0.8586\n",
      "Epoch 2/6\n",
      "250/250 [==============================] - 5s 19ms/step - loss: 0.3023 - acc: 0.8739 - val_loss: 0.3421 - val_acc: 0.8576\n",
      "Epoch 3/6\n",
      "250/250 [==============================] - 5s 19ms/step - loss: 0.2638 - acc: 0.8928 - val_loss: 0.3365 - val_acc: 0.8610\n",
      "Epoch 4/6\n",
      "250/250 [==============================] - 5s 19ms/step - loss: 0.2205 - acc: 0.9112 - val_loss: 0.3605 - val_acc: 0.8560\n",
      "Epoch 5/6\n",
      "250/250 [==============================] - 5s 19ms/step - loss: 0.1846 - acc: 0.9275 - val_loss: 0.3704 - val_acc: 0.8518\n",
      "Epoch 6/6\n",
      "250/250 [==============================] - 5s 19ms/step - loss: 0.1547 - acc: 0.9409 - val_loss: 0.4746 - val_acc: 0.8489\n"
     ]
    }
   ],
   "source": [
    "x2,his=model_RNN(X_train,y_train,300,embedding_matrix1)"
   ]
  },
  {
   "cell_type": "code",
   "execution_count": 45,
   "id": "92078a4c",
   "metadata": {
    "execution": {
     "iopub.execute_input": "2022-04-28T15:31:09.024183Z",
     "iopub.status.busy": "2022-04-28T15:31:09.022928Z",
     "iopub.status.idle": "2022-04-28T15:31:11.625274Z",
     "shell.execute_reply": "2022-04-28T15:31:11.624564Z",
     "shell.execute_reply.started": "2022-04-28T13:46:44.599042Z"
    },
    "papermill": {
     "duration": 3.65965,
     "end_time": "2022-04-28T15:31:11.625433",
     "exception": false,
     "start_time": "2022-04-28T15:31:07.965783",
     "status": "completed"
    },
    "tags": []
   },
   "outputs": [
    {
     "name": "stdout",
     "output_type": "stream",
     "text": [
      "313/313 [==============================] - 2s 5ms/step - loss: 0.4563 - acc: 0.8548\n",
      "Test Score: 0.4563477635383606\n",
      "Test Accuracy: 0.8547999858856201\n"
     ]
    }
   ],
   "source": [
    "score = x2.evaluate(X_test, y_test, verbose=1)\n",
    "print(\"Test Score:\", score[0]) \n",
    "print(\"Test Accuracy:\", score[1])"
   ]
  },
  {
   "cell_type": "code",
   "execution_count": 46,
   "id": "dbb18451",
   "metadata": {
    "execution": {
     "iopub.execute_input": "2022-04-28T15:31:13.743025Z",
     "iopub.status.busy": "2022-04-28T15:31:13.739105Z",
     "iopub.status.idle": "2022-04-28T15:31:43.413139Z",
     "shell.execute_reply": "2022-04-28T15:31:43.412595Z",
     "shell.execute_reply.started": "2022-04-28T13:46:44.601543Z"
    },
    "papermill": {
     "duration": 30.734677,
     "end_time": "2022-04-28T15:31:43.413279",
     "exception": false,
     "start_time": "2022-04-28T15:31:12.678602",
     "status": "completed"
    },
    "tags": []
   },
   "outputs": [
    {
     "name": "stdout",
     "output_type": "stream",
     "text": [
      "Epoch 1/6\n",
      "250/250 [==============================] - 7s 20ms/step - loss: 0.4312 - acc: 0.7888 - val_loss: 0.3353 - val_acc: 0.8574\n",
      "Epoch 2/6\n",
      "250/250 [==============================] - 4s 17ms/step - loss: 0.2847 - acc: 0.8831 - val_loss: 0.3153 - val_acc: 0.8675\n",
      "Epoch 3/6\n",
      "250/250 [==============================] - 5s 18ms/step - loss: 0.2355 - acc: 0.9068 - val_loss: 0.3239 - val_acc: 0.8625\n",
      "Epoch 4/6\n",
      "250/250 [==============================] - 4s 18ms/step - loss: 0.1942 - acc: 0.9260 - val_loss: 0.3505 - val_acc: 0.8591\n",
      "Epoch 5/6\n",
      "250/250 [==============================] - 4s 18ms/step - loss: 0.1579 - acc: 0.9436 - val_loss: 0.4035 - val_acc: 0.8534\n",
      "Epoch 6/6\n",
      "250/250 [==============================] - 4s 18ms/step - loss: 0.1187 - acc: 0.9594 - val_loss: 0.4764 - val_acc: 0.8524\n"
     ]
    }
   ],
   "source": [
    "x3,his=model_GRU(X_train,y_train,300,embedding_matrix1)"
   ]
  },
  {
   "cell_type": "code",
   "execution_count": 47,
   "id": "82890d87",
   "metadata": {
    "execution": {
     "iopub.execute_input": "2022-04-28T15:31:45.925969Z",
     "iopub.status.busy": "2022-04-28T15:31:45.924815Z",
     "iopub.status.idle": "2022-04-28T15:31:48.521045Z",
     "shell.execute_reply": "2022-04-28T15:31:48.521715Z",
     "shell.execute_reply.started": "2022-04-28T13:46:44.607143Z"
    },
    "papermill": {
     "duration": 3.882086,
     "end_time": "2022-04-28T15:31:48.521931",
     "exception": false,
     "start_time": "2022-04-28T15:31:44.639845",
     "status": "completed"
    },
    "tags": []
   },
   "outputs": [
    {
     "name": "stdout",
     "output_type": "stream",
     "text": [
      "313/313 [==============================] - 1s 4ms/step - loss: 0.4434 - acc: 0.8628\n",
      "Test Score: 0.4433949291706085\n",
      "Test Accuracy: 0.8628000020980835\n"
     ]
    }
   ],
   "source": [
    "score = x3.evaluate(X_test, y_test, verbose=1)\n",
    "print(\"Test Score:\", score[0]) \n",
    "print(\"Test Accuracy:\", score[1])"
   ]
  },
  {
   "cell_type": "markdown",
   "id": "6a25bccf",
   "metadata": {
    "papermill": {
     "duration": 1.262259,
     "end_time": "2022-04-28T15:31:51.018001",
     "exception": false,
     "start_time": "2022-04-28T15:31:49.755742",
     "status": "completed"
    },
    "tags": []
   },
   "source": [
    "**Fasttext**"
   ]
  },
  {
   "cell_type": "code",
   "execution_count": 48,
   "id": "b1267606",
   "metadata": {
    "execution": {
     "iopub.execute_input": "2022-04-28T15:31:53.637203Z",
     "iopub.status.busy": "2022-04-28T15:31:53.636466Z",
     "iopub.status.idle": "2022-04-28T15:31:53.640849Z",
     "shell.execute_reply": "2022-04-28T15:31:53.641443Z",
     "shell.execute_reply.started": "2022-04-28T13:46:44.609951Z"
    },
    "papermill": {
     "duration": 1.382696,
     "end_time": "2022-04-28T15:31:53.641675",
     "exception": false,
     "start_time": "2022-04-28T15:31:52.258979",
     "status": "completed"
    },
    "tags": []
   },
   "outputs": [],
   "source": [
    "#FASTEXT_Embedding = KeyedVectors.load_word2vec_format('../input/fast-text-word-embeddings/wiki-news-300d-1M.vec')"
   ]
  },
  {
   "cell_type": "code",
   "execution_count": 49,
   "id": "448f6c2c",
   "metadata": {
    "execution": {
     "iopub.execute_input": "2022-04-28T15:31:56.308747Z",
     "iopub.status.busy": "2022-04-28T15:31:56.307589Z",
     "iopub.status.idle": "2022-04-28T15:31:56.310961Z",
     "shell.execute_reply": "2022-04-28T15:31:56.310391Z",
     "shell.execute_reply.started": "2022-04-28T15:16:21.305963Z"
    },
    "papermill": {
     "duration": 1.275088,
     "end_time": "2022-04-28T15:31:56.311099",
     "exception": false,
     "start_time": "2022-04-28T15:31:55.036011",
     "status": "completed"
    },
    "tags": []
   },
   "outputs": [],
   "source": [
    "from tqdm import tqdm\n",
    "\n",
    "import os, re, csv, math, codecs"
   ]
  },
  {
   "cell_type": "code",
   "execution_count": 50,
   "id": "ac27fc48",
   "metadata": {
    "execution": {
     "iopub.execute_input": "2022-04-28T15:31:58.843362Z",
     "iopub.status.busy": "2022-04-28T15:31:58.842511Z",
     "iopub.status.idle": "2022-04-28T15:32:16.601293Z",
     "shell.execute_reply": "2022-04-28T15:32:16.601849Z",
     "shell.execute_reply.started": "2022-04-28T15:16:23.393392Z"
    },
    "papermill": {
     "duration": 19.008508,
     "end_time": "2022-04-28T15:32:16.602042",
     "exception": false,
     "start_time": "2022-04-28T15:31:57.593534",
     "status": "completed"
    },
    "tags": []
   },
   "outputs": [
    {
     "name": "stderr",
     "output_type": "stream",
     "text": [
      "111052it [00:17, 6258.55it/s]"
     ]
    },
    {
     "name": "stdout",
     "output_type": "stream",
     "text": [
      "found 111052 word vectors\n"
     ]
    },
    {
     "name": "stderr",
     "output_type": "stream",
     "text": [
      "\n"
     ]
    }
   ],
   "source": [
    "embeddings_index = {}\n",
    "f = codecs.open('../input/fasttext/wiki.simple.vec', encoding='utf-8')\n",
    "for line in tqdm(f):\n",
    "    values = line.rstrip().rsplit(' ')\n",
    "    word = values[0]\n",
    "    coefs = np.asarray(values[1:], dtype='float32')\n",
    "    embeddings_index[word] = coefs\n",
    "f.close()\n",
    "print('found %s word vectors' % len(embeddings_index))"
   ]
  },
  {
   "cell_type": "code",
   "execution_count": 51,
   "id": "75680122",
   "metadata": {
    "execution": {
     "iopub.execute_input": "2022-04-28T15:32:19.311106Z",
     "iopub.status.busy": "2022-04-28T15:32:19.310454Z",
     "iopub.status.idle": "2022-04-28T15:32:19.504207Z",
     "shell.execute_reply": "2022-04-28T15:32:19.503625Z",
     "shell.execute_reply.started": "2022-04-28T15:17:13.175498Z"
    },
    "papermill": {
     "duration": 1.589275,
     "end_time": "2022-04-28T15:32:19.504375",
     "exception": false,
     "start_time": "2022-04-28T15:32:17.915100",
     "status": "completed"
    },
    "tags": []
   },
   "outputs": [],
   "source": [
    "embedding_matrix2 = zeros((vocab_size, 100)) \n",
    "for word, index in tokenizer.word_index.items(): \n",
    "    embeddings_index = embeddings_dictionary.get(word) \n",
    "    if embeddings_index is not None: \n",
    "        embedding_matrix2[index] = embeddings_index\n"
   ]
  },
  {
   "cell_type": "code",
   "execution_count": 52,
   "id": "a027fb68",
   "metadata": {
    "execution": {
     "iopub.execute_input": "2022-04-28T15:32:22.099058Z",
     "iopub.status.busy": "2022-04-28T15:32:22.097840Z",
     "iopub.status.idle": "2022-04-28T15:32:22.102275Z",
     "shell.execute_reply": "2022-04-28T15:32:22.102813Z",
     "shell.execute_reply.started": "2022-04-28T13:46:44.619767Z"
    },
    "papermill": {
     "duration": 1.3033,
     "end_time": "2022-04-28T15:32:22.102983",
     "exception": false,
     "start_time": "2022-04-28T15:32:20.799683",
     "status": "completed"
    },
    "tags": []
   },
   "outputs": [
    {
     "data": {
      "text/plain": [
       "array([[ 0.        ,  0.        ,  0.        , ...,  0.        ,\n",
       "         0.        ,  0.        ],\n",
       "       [-0.038194  , -0.24487001,  0.72812003, ..., -0.1459    ,\n",
       "         0.82779998,  0.27061999],\n",
       "       [-0.071953  ,  0.23127   ,  0.023731  , ..., -0.71894997,\n",
       "         0.86894   ,  0.19539   ],\n",
       "       ...,\n",
       "       [ 0.        ,  0.        ,  0.        , ...,  0.        ,\n",
       "         0.        ,  0.        ],\n",
       "       [ 0.37771001,  0.22946   , -0.30311   , ..., -0.33610001,\n",
       "         0.02637   , -0.72302002],\n",
       "       [ 0.99882001,  0.044     ,  0.58508003, ..., -0.54869002,\n",
       "         0.15141   ,  1.36880004]])"
      ]
     },
     "execution_count": 52,
     "metadata": {},
     "output_type": "execute_result"
    }
   ],
   "source": [
    "embedding_matrix2"
   ]
  },
  {
   "cell_type": "code",
   "execution_count": 53,
   "id": "ecd146b9",
   "metadata": {
    "execution": {
     "iopub.execute_input": "2022-04-28T15:32:24.686141Z",
     "iopub.status.busy": "2022-04-28T15:32:24.685421Z",
     "iopub.status.idle": "2022-04-28T15:32:44.649179Z",
     "shell.execute_reply": "2022-04-28T15:32:44.648612Z",
     "shell.execute_reply.started": "2022-04-28T15:24:21.101032Z"
    },
    "papermill": {
     "duration": 21.259715,
     "end_time": "2022-04-28T15:32:44.649336",
     "exception": false,
     "start_time": "2022-04-28T15:32:23.389621",
     "status": "completed"
    },
    "tags": []
   },
   "outputs": [
    {
     "name": "stdout",
     "output_type": "stream",
     "text": [
      "Epoch 1/6\n",
      "250/250 [==============================] - 5s 14ms/step - loss: 0.5090 - accuracy: 0.7354 - val_loss: 0.3473 - val_accuracy: 0.8528\n",
      "Epoch 2/6\n",
      "250/250 [==============================] - 3s 11ms/step - loss: 0.3172 - accuracy: 0.8635 - val_loss: 0.3112 - val_accuracy: 0.8679\n",
      "Epoch 3/6\n",
      "250/250 [==============================] - 3s 12ms/step - loss: 0.2621 - accuracy: 0.8939 - val_loss: 0.3111 - val_accuracy: 0.8674\n",
      "Epoch 4/6\n",
      "250/250 [==============================] - 3s 12ms/step - loss: 0.2193 - accuracy: 0.9140 - val_loss: 0.3177 - val_accuracy: 0.8660\n",
      "Epoch 5/6\n",
      "250/250 [==============================] - 3s 11ms/step - loss: 0.1740 - accuracy: 0.9353 - val_loss: 0.4601 - val_accuracy: 0.8411\n",
      "Epoch 6/6\n",
      "250/250 [==============================] - 3s 11ms/step - loss: 0.1245 - accuracy: 0.9560 - val_loss: 0.4013 - val_accuracy: 0.8575\n"
     ]
    }
   ],
   "source": [
    "x11,his=model_RNNCNN(X_train,y_train,100,embedding_matrix2)"
   ]
  },
  {
   "cell_type": "code",
   "execution_count": 54,
   "id": "9e83e2c1",
   "metadata": {
    "execution": {
     "iopub.execute_input": "2022-04-28T15:32:47.544362Z",
     "iopub.status.busy": "2022-04-28T15:32:47.543672Z",
     "iopub.status.idle": "2022-04-28T15:32:50.145084Z",
     "shell.execute_reply": "2022-04-28T15:32:50.145598Z",
     "shell.execute_reply.started": "2022-04-28T13:46:44.631657Z"
    },
    "papermill": {
     "duration": 4.063269,
     "end_time": "2022-04-28T15:32:50.145796",
     "exception": false,
     "start_time": "2022-04-28T15:32:46.082527",
     "status": "completed"
    },
    "tags": []
   },
   "outputs": [
    {
     "name": "stdout",
     "output_type": "stream",
     "text": [
      "313/313 [==============================] - 1s 4ms/step - loss: 0.3767 - accuracy: 0.8624\n",
      "Test Score: 0.3767189383506775\n",
      "Test Accuracy: 0.8623999953269958\n"
     ]
    }
   ],
   "source": [
    "score = x11.evaluate(X_test, y_test, verbose=1)\n",
    "print(\"Test Score:\", score[0]) \n",
    "print(\"Test Accuracy:\", score[1])"
   ]
  },
  {
   "cell_type": "code",
   "execution_count": 55,
   "id": "f72525a4",
   "metadata": {
    "execution": {
     "iopub.execute_input": "2022-04-28T15:32:53.089611Z",
     "iopub.status.busy": "2022-04-28T15:32:53.088471Z",
     "iopub.status.idle": "2022-04-28T15:33:15.366510Z",
     "shell.execute_reply": "2022-04-28T15:33:15.365749Z",
     "shell.execute_reply.started": "2022-04-28T15:19:04.643648Z"
    },
    "papermill": {
     "duration": 23.766712,
     "end_time": "2022-04-28T15:33:15.366694",
     "exception": false,
     "start_time": "2022-04-28T15:32:51.599982",
     "status": "completed"
    },
    "tags": []
   },
   "outputs": [
    {
     "name": "stdout",
     "output_type": "stream",
     "text": [
      "Epoch 1/6\n",
      "250/250 [==============================] - 5s 15ms/step - loss: 0.4955 - acc: 0.7530 - val_loss: 0.4296 - val_acc: 0.8221\n",
      "Epoch 2/6\n",
      "250/250 [==============================] - 3s 13ms/step - loss: 0.3384 - acc: 0.8549 - val_loss: 0.3339 - val_acc: 0.8608\n",
      "Epoch 3/6\n",
      "250/250 [==============================] - 3s 13ms/step - loss: 0.2853 - acc: 0.8816 - val_loss: 0.3371 - val_acc: 0.8539\n",
      "Epoch 4/6\n",
      "250/250 [==============================] - 3s 14ms/step - loss: 0.2604 - acc: 0.8937 - val_loss: 0.3399 - val_acc: 0.8660\n",
      "Epoch 5/6\n",
      "250/250 [==============================] - 3s 13ms/step - loss: 0.2340 - acc: 0.9089 - val_loss: 0.3287 - val_acc: 0.8637\n",
      "Epoch 6/6\n",
      "250/250 [==============================] - 3s 13ms/step - loss: 0.2112 - acc: 0.9208 - val_loss: 0.3419 - val_acc: 0.8644\n"
     ]
    }
   ],
   "source": [
    "x22,his=model_RNN(X_train,y_train,100,embedding_matrix2)"
   ]
  },
  {
   "cell_type": "code",
   "execution_count": 56,
   "id": "2f671bb7",
   "metadata": {
    "execution": {
     "iopub.execute_input": "2022-04-28T15:33:18.584829Z",
     "iopub.status.busy": "2022-04-28T15:33:18.583816Z",
     "iopub.status.idle": "2022-04-28T15:33:18.637361Z",
     "shell.execute_reply": "2022-04-28T15:33:18.636836Z"
    },
    "papermill": {
     "duration": 1.665269,
     "end_time": "2022-04-28T15:33:18.637512",
     "exception": false,
     "start_time": "2022-04-28T15:33:16.972243",
     "status": "completed"
    },
    "tags": []
   },
   "outputs": [
    {
     "name": "stdout",
     "output_type": "stream",
     "text": [
      "[0]\n"
     ]
    }
   ],
   "source": [
    "\n",
    "predict_x=model_rnn.predict(X_test[7:8]) \n",
    "classes_x=np.argmax(predict_x,axis=1)\n",
    "print(classes_x)"
   ]
  },
  {
   "cell_type": "code",
   "execution_count": 57,
   "id": "58d51449",
   "metadata": {
    "execution": {
     "iopub.execute_input": "2022-04-28T15:33:22.105481Z",
     "iopub.status.busy": "2022-04-28T15:33:22.102889Z",
     "iopub.status.idle": "2022-04-28T15:33:24.701973Z",
     "shell.execute_reply": "2022-04-28T15:33:24.701371Z",
     "shell.execute_reply.started": "2022-04-28T13:46:44.637565Z"
    },
    "papermill": {
     "duration": 4.485104,
     "end_time": "2022-04-28T15:33:24.702137",
     "exception": false,
     "start_time": "2022-04-28T15:33:20.217033",
     "status": "completed"
    },
    "tags": []
   },
   "outputs": [
    {
     "name": "stdout",
     "output_type": "stream",
     "text": [
      "313/313 [==============================] - 1s 4ms/step - loss: 0.3292 - acc: 0.8651\n",
      "Test Score: 0.3291720151901245\n",
      "Test Accuracy: 0.8651000261306763\n"
     ]
    }
   ],
   "source": [
    "score = x22.evaluate(X_test, y_test, verbose=1)\n",
    "print(\"Test Score:\", score[0]) \n",
    "print(\"Test Accuracy:\", score[1])"
   ]
  },
  {
   "cell_type": "code",
   "execution_count": 58,
   "id": "6699faac",
   "metadata": {
    "execution": {
     "iopub.execute_input": "2022-04-28T15:33:28.023093Z",
     "iopub.status.busy": "2022-04-28T15:33:28.021985Z",
     "iopub.status.idle": "2022-04-28T15:33:48.695821Z",
     "shell.execute_reply": "2022-04-28T15:33:48.695235Z",
     "shell.execute_reply.started": "2022-04-28T13:46:44.640286Z"
    },
    "papermill": {
     "duration": 22.38326,
     "end_time": "2022-04-28T15:33:48.696023",
     "exception": false,
     "start_time": "2022-04-28T15:33:26.312763",
     "status": "completed"
    },
    "tags": []
   },
   "outputs": [
    {
     "name": "stdout",
     "output_type": "stream",
     "text": [
      "Epoch 1/6\n",
      "250/250 [==============================] - 5s 15ms/step - loss: 0.4880 - acc: 0.7469 - val_loss: 0.3321 - val_acc: 0.8543\n",
      "Epoch 2/6\n",
      "250/250 [==============================] - 3s 12ms/step - loss: 0.3047 - acc: 0.8718 - val_loss: 0.3111 - val_acc: 0.8648\n",
      "Epoch 3/6\n",
      "250/250 [==============================] - 3s 12ms/step - loss: 0.2633 - acc: 0.8929 - val_loss: 0.3107 - val_acc: 0.8685\n",
      "Epoch 4/6\n",
      "250/250 [==============================] - 3s 13ms/step - loss: 0.2262 - acc: 0.9102 - val_loss: 0.3138 - val_acc: 0.8683\n",
      "Epoch 5/6\n",
      "250/250 [==============================] - 3s 12ms/step - loss: 0.1965 - acc: 0.9251 - val_loss: 0.3244 - val_acc: 0.8671\n",
      "Epoch 6/6\n",
      "250/250 [==============================] - 3s 12ms/step - loss: 0.1649 - acc: 0.9406 - val_loss: 0.3763 - val_acc: 0.8639\n"
     ]
    }
   ],
   "source": [
    "x33,his=model_GRU(X_train,y_train,100,embedding_matrix2)"
   ]
  },
  {
   "cell_type": "code",
   "execution_count": 59,
   "id": "063d8951",
   "metadata": {
    "execution": {
     "iopub.execute_input": "2022-04-28T15:33:52.146560Z",
     "iopub.status.busy": "2022-04-28T15:33:52.144551Z",
     "iopub.status.idle": "2022-04-28T15:33:53.531513Z",
     "shell.execute_reply": "2022-04-28T15:33:53.532436Z",
     "shell.execute_reply.started": "2022-04-28T13:46:44.649712Z"
    },
    "papermill": {
     "duration": 3.099514,
     "end_time": "2022-04-28T15:33:53.532717",
     "exception": false,
     "start_time": "2022-04-28T15:33:50.433203",
     "status": "completed"
    },
    "tags": []
   },
   "outputs": [
    {
     "name": "stdout",
     "output_type": "stream",
     "text": [
      "313/313 [==============================] - 1s 4ms/step - loss: 0.3583 - acc: 0.8630\n",
      "Test Score: 0.35834524035453796\n",
      "Test Accuracy: 0.8629999756813049\n"
     ]
    }
   ],
   "source": [
    "score = x33.evaluate(X_test, y_test, verbose=1)\n",
    "print(\"Test Score:\", score[0]) \n",
    "print(\"Test Accuracy:\", score[1])"
   ]
  },
  {
   "cell_type": "code",
   "execution_count": 60,
   "id": "9d85c0fc",
   "metadata": {
    "execution": {
     "iopub.execute_input": "2022-04-28T15:33:57.369214Z",
     "iopub.status.busy": "2022-04-28T15:33:57.367954Z",
     "iopub.status.idle": "2022-04-28T15:33:58.755727Z",
     "shell.execute_reply": "2022-04-28T15:33:58.754589Z",
     "shell.execute_reply.started": "2022-04-28T13:46:44.655108Z"
    },
    "papermill": {
     "duration": 3.155528,
     "end_time": "2022-04-28T15:33:58.755902",
     "exception": false,
     "start_time": "2022-04-28T15:33:55.600374",
     "status": "completed"
    },
    "tags": []
   },
   "outputs": [
    {
     "data": {
      "image/png": "[encoded data removed]",
      "text/plain": [
       "<IPython.core.display.Image object>"
      ]
     },
     "execution_count": 60,
     "metadata": {},
     "output_type": "execute_result"
    }
   ],
   "source": [
    "import tensorflow as tf\n",
    "tf.keras.utils.plot_model(x33, show_shapes=True)\n"
   ]
  },
  {
   "cell_type": "code",
   "execution_count": 61,
   "id": "84e40cac",
   "metadata": {
    "execution": {
     "iopub.execute_input": "2022-04-28T15:34:02.265899Z",
     "iopub.status.busy": "2022-04-28T15:34:02.264915Z",
     "iopub.status.idle": "2022-04-28T15:34:02.530127Z",
     "shell.execute_reply": "2022-04-28T15:34:02.530665Z",
     "shell.execute_reply.started": "2022-04-28T13:46:44.663736Z"
    },
    "papermill": {
     "duration": 2.019412,
     "end_time": "2022-04-28T15:34:02.530858",
     "exception": false,
     "start_time": "2022-04-28T15:34:00.511446",
     "status": "completed"
    },
    "tags": []
   },
   "outputs": [
    {
     "data": {
      "image/png": "[encoded data removed]",
      "text/plain": [
       "<IPython.core.display.Image object>"
      ]
     },
     "execution_count": 61,
     "metadata": {},
     "output_type": "execute_result"
    }
   ],
   "source": [
    "import tensorflow as tf\n",
    "tf.keras.utils.plot_model(x22, show_shapes=True)"
   ]
  },
  {
   "cell_type": "code",
   "execution_count": 62,
   "id": "0d9f9557",
   "metadata": {
    "execution": {
     "iopub.execute_input": "2022-04-28T15:34:06.387167Z",
     "iopub.status.busy": "2022-04-28T15:34:06.386093Z",
     "iopub.status.idle": "2022-04-28T15:34:06.672799Z",
     "shell.execute_reply": "2022-04-28T15:34:06.671773Z",
     "shell.execute_reply.started": "2022-04-28T13:46:44.667158Z"
    },
    "papermill": {
     "duration": 2.398624,
     "end_time": "2022-04-28T15:34:06.672954",
     "exception": false,
     "start_time": "2022-04-28T15:34:04.274330",
     "status": "completed"
    },
    "tags": []
   },
   "outputs": [
    {
     "data": {
      "image/png": "[encoded data removed]",
      "text/plain": [
       "<IPython.core.display.Image object>"
      ]
     },
     "execution_count": 62,
     "metadata": {},
     "output_type": "execute_result"
    }
   ],
   "source": [
    "import tensorflow as tf\n",
    "tf.keras.utils.plot_model(x11, show_shapes=True)"
   ]
  },
  {
   "cell_type": "markdown",
   "id": "d4fc7ad2",
   "metadata": {
    "papermill": {
     "duration": 1.731986,
     "end_time": "2022-04-28T15:34:10.159191",
     "exception": false,
     "start_time": "2022-04-28T15:34:08.427205",
     "status": "completed"
    },
    "tags": []
   },
   "source": [
    "**TFIDF**"
   ]
  },
  {
   "cell_type": "code",
   "execution_count": 63,
   "id": "0e469706",
   "metadata": {
    "execution": {
     "iopub.execute_input": "2022-04-28T15:34:13.832359Z",
     "iopub.status.busy": "2022-04-28T15:34:13.831285Z",
     "iopub.status.idle": "2022-04-28T15:34:13.897136Z",
     "shell.execute_reply": "2022-04-28T15:34:13.898725Z",
     "shell.execute_reply.started": "2022-04-28T13:50:40.614156Z"
    },
    "papermill": {
     "duration": 1.970113,
     "end_time": "2022-04-28T15:34:13.898995",
     "exception": false,
     "start_time": "2022-04-28T15:34:11.928882",
     "status": "completed"
    },
    "tags": []
   },
   "outputs": [],
   "source": [
    "X_train1, X_test1, y_train1, y_test1 = train_test_split(X, y,\n",
    "test_size=0.20, random_state=42)"
   ]
  },
  {
   "cell_type": "code",
   "execution_count": 64,
   "id": "aee17f84",
   "metadata": {
    "execution": {
     "iopub.execute_input": "2022-04-28T15:34:18.295755Z",
     "iopub.status.busy": "2022-04-28T15:34:18.294743Z",
     "iopub.status.idle": "2022-04-28T15:34:32.179059Z",
     "shell.execute_reply": "2022-04-28T15:34:32.178273Z",
     "shell.execute_reply.started": "2022-04-28T14:06:04.567187Z"
    },
    "papermill": {
     "duration": 16.012369,
     "end_time": "2022-04-28T15:34:32.179208",
     "exception": false,
     "start_time": "2022-04-28T15:34:16.166839",
     "status": "completed"
    },
    "tags": []
   },
   "outputs": [],
   "source": [
    "from sklearn.feature_extraction.text import TfidfVectorizer\n",
    "vectorizer = TfidfVectorizer( use_idf=True, max_features=3000)\n",
    "X_train_transformed = vectorizer.fit_transform(X_train1).toarray()\n",
    "X_test_transformed = vectorizer.transform(X_test1).toarray()\n"
   ]
  },
  {
   "cell_type": "code",
   "execution_count": 65,
   "id": "16843de6",
   "metadata": {
    "execution": {
     "iopub.execute_input": "2022-04-28T15:34:35.737692Z",
     "iopub.status.busy": "2022-04-28T15:34:35.736450Z",
     "iopub.status.idle": "2022-04-28T15:34:35.742156Z",
     "shell.execute_reply": "2022-04-28T15:34:35.741639Z",
     "shell.execute_reply.started": "2022-04-28T13:46:44.693970Z"
    },
    "papermill": {
     "duration": 1.77348,
     "end_time": "2022-04-28T15:34:35.742296",
     "exception": false,
     "start_time": "2022-04-28T15:34:33.968816",
     "status": "completed"
    },
    "tags": []
   },
   "outputs": [
    {
     "data": {
      "text/plain": [
       "array([[0.        , 0.07323706, 0.        , ..., 0.        , 0.        ,\n",
       "        0.        ],\n",
       "       [0.        , 0.        , 0.        , ..., 0.        , 0.        ,\n",
       "        0.        ],\n",
       "       [0.        , 0.        , 0.        , ..., 0.        , 0.        ,\n",
       "        0.        ],\n",
       "       ...,\n",
       "       [0.        , 0.        , 0.        , ..., 0.        , 0.        ,\n",
       "        0.        ],\n",
       "       [0.        , 0.        , 0.        , ..., 0.        , 0.        ,\n",
       "        0.        ],\n",
       "       [0.        , 0.        , 0.        , ..., 0.        , 0.        ,\n",
       "        0.        ]])"
      ]
     },
     "execution_count": 65,
     "metadata": {},
     "output_type": "execute_result"
    }
   ],
   "source": [
    "X_train_transformed "
   ]
  },
  {
   "cell_type": "code",
   "execution_count": 66,
   "id": "1641149a",
   "metadata": {
    "execution": {
     "iopub.execute_input": "2022-04-28T15:34:39.885436Z",
     "iopub.status.busy": "2022-04-28T15:34:39.884104Z",
     "iopub.status.idle": "2022-04-28T15:34:39.887760Z",
     "shell.execute_reply": "2022-04-28T15:34:39.888300Z",
     "shell.execute_reply.started": "2022-04-28T13:52:50.085643Z"
    },
    "papermill": {
     "duration": 2.298427,
     "end_time": "2022-04-28T15:34:39.888556",
     "exception": false,
     "start_time": "2022-04-28T15:34:37.590129",
     "status": "completed"
    },
    "tags": []
   },
   "outputs": [],
   "source": [
    "X_train_transformed1=X_train_transformed.reshape(X_train_transformed.shape[0],X_train_transformed.shape[1],1)\n",
    "X_test_transformed1=X_test_transformed.reshape(X_test_transformed.shape[0],X_test_transformed.shape[1],1)"
   ]
  },
  {
   "cell_type": "code",
   "execution_count": 67,
   "id": "b520f555",
   "metadata": {
    "execution": {
     "iopub.execute_input": "2022-04-28T15:34:43.771096Z",
     "iopub.status.busy": "2022-04-28T15:34:43.770028Z",
     "iopub.status.idle": "2022-04-28T15:34:43.772280Z",
     "shell.execute_reply": "2022-04-28T15:34:43.772904Z",
     "shell.execute_reply.started": "2022-04-28T13:52:53.102683Z"
    },
    "papermill": {
     "duration": 1.808803,
     "end_time": "2022-04-28T15:34:43.773065",
     "exception": false,
     "start_time": "2022-04-28T15:34:41.964262",
     "status": "completed"
    },
    "tags": []
   },
   "outputs": [],
   "source": [
    "def model_RNNCNN_2(X_train,y_train):\n",
    "    modelx = Sequential()\n",
    "    #modelx.add((Embedding(vocab_size,l, weights=[embedding_matrix],input_length=maxlen)))\n",
    "    modelx.add(Conv1D(filters=128, kernel_size=5, activation='relu'))\n",
    "    modelx.add(MaxPooling1D(pool_size=2))\n",
    "    modelx.add(LSTM(128))\n",
    "    modelx.add(Dense(1, activation='sigmoid'))\n",
    "    modelx.compile(loss='binary_crossentropy', optimizer='adam', metrics=['accuracy'])\n",
    "    history=modelx.fit(X_train,y_train,epochs=6,batch_size=128,verbose=1,validation_split=0.2)\n",
    "    return modelx,history"
   ]
  },
  {
   "cell_type": "code",
   "execution_count": 68,
   "id": "5ecd0ae4",
   "metadata": {
    "execution": {
     "iopub.execute_input": "2022-04-28T15:34:47.697574Z",
     "iopub.status.busy": "2022-04-28T15:34:47.696641Z",
     "iopub.status.idle": "2022-04-28T15:38:04.662976Z",
     "shell.execute_reply": "2022-04-28T15:38:04.662378Z",
     "shell.execute_reply.started": "2022-04-28T14:06:55.262042Z"
    },
    "papermill": {
     "duration": 199.139293,
     "end_time": "2022-04-28T15:38:04.663133",
     "exception": false,
     "start_time": "2022-04-28T15:34:45.523840",
     "status": "completed"
    },
    "tags": []
   },
   "outputs": [
    {
     "name": "stdout",
     "output_type": "stream",
     "text": [
      "Epoch 1/6\n",
      "250/250 [==============================] - 36s 136ms/step - loss: 0.6861 - accuracy: 0.5416 - val_loss: 0.6735 - val_accuracy: 0.5801\n",
      "Epoch 2/6\n",
      "250/250 [==============================] - 33s 130ms/step - loss: 0.6731 - accuracy: 0.5810 - val_loss: 0.6709 - val_accuracy: 0.5796\n",
      "Epoch 3/6\n",
      "250/250 [==============================] - 32s 128ms/step - loss: 0.6708 - accuracy: 0.5838 - val_loss: 0.6686 - val_accuracy: 0.5881\n",
      "Epoch 4/6\n",
      "250/250 [==============================] - 32s 127ms/step - loss: 0.6705 - accuracy: 0.5847 - val_loss: 0.6688 - val_accuracy: 0.5907\n",
      "Epoch 5/6\n",
      "250/250 [==============================] - 32s 127ms/step - loss: 0.6676 - accuracy: 0.5878 - val_loss: 0.6687 - val_accuracy: 0.5865\n",
      "Epoch 6/6\n",
      "250/250 [==============================] - 32s 127ms/step - loss: 0.6681 - accuracy: 0.5879 - val_loss: 0.6637 - val_accuracy: 0.5955\n"
     ]
    }
   ],
   "source": [
    "mod2,his=model_RNNCNN_2(X_train_transformed1,y_train1)"
   ]
  },
  {
   "cell_type": "code",
   "execution_count": 69,
   "id": "e6a4be4f",
   "metadata": {
    "execution": {
     "iopub.execute_input": "2022-04-28T15:38:10.224182Z",
     "iopub.status.busy": "2022-04-28T15:38:10.223131Z",
     "iopub.status.idle": "2022-04-28T15:38:20.454561Z",
     "shell.execute_reply": "2022-04-28T15:38:20.455328Z",
     "shell.execute_reply.started": "2022-04-28T14:07:20.072127Z"
    },
    "papermill": {
     "duration": 13.39113,
     "end_time": "2022-04-28T15:38:20.455609",
     "exception": false,
     "start_time": "2022-04-28T15:38:07.064479",
     "status": "completed"
    },
    "tags": []
   },
   "outputs": [
    {
     "name": "stdout",
     "output_type": "stream",
     "text": [
      "313/313 [==============================] - 10s 31ms/step - loss: 0.6631 - accuracy: 0.5996\n",
      "Test Score: 0.6631484627723694\n",
      "Test Accuracy: 0.5996000170707703\n"
     ]
    }
   ],
   "source": [
    "score = mod2.evaluate(X_test_transformed1, y_test1, verbose=1)\n",
    "print(\"Test Score:\", score[0]) \n",
    "print(\"Test Accuracy:\", score[1])"
   ]
  },
  {
   "cell_type": "code",
   "execution_count": 70,
   "id": "2c743cc3",
   "metadata": {
    "execution": {
     "iopub.execute_input": "2022-04-28T15:38:25.298364Z",
     "iopub.status.busy": "2022-04-28T15:38:25.297177Z",
     "iopub.status.idle": "2022-04-28T15:38:26.061716Z",
     "shell.execute_reply": "2022-04-28T15:38:26.063455Z",
     "shell.execute_reply.started": "2022-04-28T14:06:27.149328Z"
    },
    "papermill": {
     "duration": 3.212232,
     "end_time": "2022-04-28T15:38:26.063795",
     "exception": false,
     "start_time": "2022-04-28T15:38:22.851563",
     "status": "completed"
    },
    "tags": []
   },
   "outputs": [
    {
     "name": "stdout",
     "output_type": "stream",
     "text": [
      "[0 1 0 ... 1 0 0]\n"
     ]
    },
    {
     "data": {
      "text/plain": [
       "0.8509"
      ]
     },
     "execution_count": 70,
     "metadata": {},
     "output_type": "execute_result"
    }
   ],
   "source": [
    "from sklearn.naive_bayes import MultinomialNB\n",
    "clf = MultinomialNB()\n",
    "clf.fit(X_train_transformed,y_train1)\n",
    "print(clf.predict(X_test_transformed))\n",
    "from sklearn.metrics import accuracy_score\n",
    "accuracy_score(clf.predict(X_test_transformed),y_test1)\n"
   ]
  },
  {
   "cell_type": "code",
   "execution_count": 71,
   "id": "25dbce93",
   "metadata": {
    "execution": {
     "iopub.execute_input": "2022-04-28T15:38:31.738143Z",
     "iopub.status.busy": "2022-04-28T15:38:31.737374Z",
     "iopub.status.idle": "2022-04-28T15:38:53.393457Z",
     "shell.execute_reply": "2022-04-28T15:38:53.394760Z",
     "shell.execute_reply.started": "2022-04-28T14:12:01.324589Z"
    },
    "papermill": {
     "duration": 24.77713,
     "end_time": "2022-04-28T15:38:53.395062",
     "exception": false,
     "start_time": "2022-04-28T15:38:28.617932",
     "status": "completed"
    },
    "tags": []
   },
   "outputs": [
    {
     "name": "stdout",
     "output_type": "stream",
     "text": [
      "[0 1 0 ... 1 0 1]\n"
     ]
    },
    {
     "data": {
      "text/plain": [
       "0.8921"
      ]
     },
     "execution_count": 71,
     "metadata": {},
     "output_type": "execute_result"
    }
   ],
   "source": [
    "from sklearn.linear_model import LogisticRegression\n",
    "clf = LogisticRegression()\n",
    "clf.fit(X_train_transformed,y_train1)\n",
    "print(clf.predict(X_test_transformed))\n",
    "from sklearn.metrics import accuracy_score\n",
    "accuracy_score(clf.predict(X_test_transformed),y_test1)"
   ]
  },
  {
   "cell_type": "code",
   "execution_count": 72,
   "id": "5111bff7",
   "metadata": {
    "execution": {
     "iopub.execute_input": "2022-04-28T15:38:58.415772Z",
     "iopub.status.busy": "2022-04-28T15:38:58.414656Z",
     "iopub.status.idle": "2022-04-28T15:38:58.417623Z",
     "shell.execute_reply": "2022-04-28T15:38:58.418127Z",
     "shell.execute_reply.started": "2022-04-28T14:21:35.762537Z"
    },
    "papermill": {
     "duration": 2.491882,
     "end_time": "2022-04-28T15:38:58.418293",
     "exception": false,
     "start_time": "2022-04-28T15:38:55.926411",
     "status": "completed"
    },
    "tags": []
   },
   "outputs": [],
   "source": [
    " def simple_modelx(X_train,y_train):\n",
    "    model=Sequential()\n",
    "    #model.add(Embedding(vocab_size,3000,weights=[embedding_matrix],input_length=maxlen,trainable=False))\n",
    "    #model.add(Flatten())\n",
    "    model.add(Dense(1024,activation='relu'))\n",
    "   \n",
    "    model.add(Dense(1,activation='sigmoid'))\n",
    "    model.compile(\"adam\",loss='binary_crossentropy',metrics=[\"acc\"])\n",
    "    history=model.fit(X_train,y_train,epochs=6,batch_size=128,verbose=1,validation_split=0.2)\n",
    "    return model,history\n"
   ]
  },
  {
   "cell_type": "code",
   "execution_count": 73,
   "id": "63bdfe96",
   "metadata": {
    "execution": {
     "iopub.execute_input": "2022-04-28T15:39:03.708477Z",
     "iopub.status.busy": "2022-04-28T15:39:03.707474Z",
     "iopub.status.idle": "2022-04-28T15:39:10.687980Z",
     "shell.execute_reply": "2022-04-28T15:39:10.687368Z",
     "shell.execute_reply.started": "2022-04-28T14:21:38.309403Z"
    },
    "papermill": {
     "duration": 9.810593,
     "end_time": "2022-04-28T15:39:10.688164",
     "exception": false,
     "start_time": "2022-04-28T15:39:00.877571",
     "status": "completed"
    },
    "tags": []
   },
   "outputs": [
    {
     "name": "stdout",
     "output_type": "stream",
     "text": [
      "Epoch 1/6\n",
      "250/250 [==============================] - 2s 5ms/step - loss: 0.3380 - acc: 0.8646 - val_loss: 0.2758 - val_acc: 0.8839\n",
      "Epoch 2/6\n",
      "250/250 [==============================] - 1s 3ms/step - loss: 0.2461 - acc: 0.8989 - val_loss: 0.2850 - val_acc: 0.8754\n",
      "Epoch 3/6\n",
      "250/250 [==============================] - 1s 3ms/step - loss: 0.2287 - acc: 0.9061 - val_loss: 0.2864 - val_acc: 0.8777\n",
      "Epoch 4/6\n",
      "250/250 [==============================] - 1s 3ms/step - loss: 0.2104 - acc: 0.9144 - val_loss: 0.2962 - val_acc: 0.8770\n",
      "Epoch 5/6\n",
      "250/250 [==============================] - 1s 3ms/step - loss: 0.1833 - acc: 0.9265 - val_loss: 0.3068 - val_acc: 0.8741\n",
      "Epoch 6/6\n",
      "250/250 [==============================] - 1s 4ms/step - loss: 0.1471 - acc: 0.9464 - val_loss: 0.3194 - val_acc: 0.8730\n"
     ]
    }
   ],
   "source": [
    "modx,his=simple_modelx(X_train_transformed,y_train)"
   ]
  }
 ],
 "metadata": {
  "kernelspec": {
   "display_name": "Python 3",
   "language": "python",
   "name": "python3"
  },
  "language_info": {
   "codemirror_mode": {
    "name": "ipython",
    "version": 3
   },
   "file_extension": ".py",
   "mimetype": "text/x-python",
   "name": "python",
   "nbconvert_exporter": "python",
   "pygments_lexer": "ipython3",
   "version": "3.7.12"
  },
  "papermill": {
   "default_parameters": {},
   "duration": 827.074993,
   "end_time": "2022-04-28T15:39:16.775005",
   "environment_variables": {},
   "exception": null,
   "input_path": "__notebook__.ipynb",
   "output_path": "__notebook__.ipynb",
   "parameters": {},
   "start_time": "2022-04-28T15:25:29.700012",
   "version": "2.3.3"
  }
 },
 "nbformat": 4,
 "nbformat_minor": 5
}
